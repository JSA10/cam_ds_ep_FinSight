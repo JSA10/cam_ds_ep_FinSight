{
 "cells": [
  {
   "cell_type": "code",
   "execution_count": 1,
   "id": "d727a178-6b5b-43c1-91d3-46f9c50d5e05",
   "metadata": {
    "execution": {
     "iopub.execute_input": "2025-09-09T15:45:27.386381Z",
     "iopub.status.busy": "2025-09-09T15:45:27.386293Z",
     "iopub.status.idle": "2025-09-09T15:45:27.689334Z",
     "shell.execute_reply": "2025-09-09T15:45:27.689095Z",
     "shell.execute_reply.started": "2025-09-09T15:45:27.386373Z"
    }
   },
   "outputs": [
    {
     "name": "stdout",
     "output_type": "stream",
     "text": [
      "✅ All required packages are available\n"
     ]
    }
   ],
   "source": [
    "# Import required libraries\n",
    "import os\n",
    "import sys\n",
    "import pandas as pd\n",
    "from pathlib import Path\n",
    "import warnings\n",
    "warnings.filterwarnings('ignore')\n",
    "\n",
    "# Install required packages if not already installed\n",
    "import subprocess\n",
    "packages = ['PyPDF2', 'pandas', 'pathlib']\n",
    "\n",
    "for package in packages:\n",
    "    try:\n",
    "        __import__(package)\n",
    "    except ImportError:\n",
    "        print(f\"Installing {package}...\")\n",
    "        subprocess.check_call([sys.executable, '-m', 'pip', 'install', package])\n",
    "\n",
    "print(\"✅ All required packages are available\")"
   ]
  },
  {
   "cell_type": "code",
   "execution_count": 2,
   "id": "da56cf13-789e-4669-b0ca-3cab020620e4",
   "metadata": {
    "execution": {
     "iopub.execute_input": "2025-09-09T15:45:27.689866Z",
     "iopub.status.busy": "2025-09-09T15:45:27.689713Z",
     "iopub.status.idle": "2025-09-09T15:45:27.694108Z",
     "shell.execute_reply": "2025-09-09T15:45:27.693856Z",
     "shell.execute_reply.started": "2025-09-09T15:45:27.689856Z"
    }
   },
   "outputs": [
    {
     "name": "stdout",
     "output_type": "stream",
     "text": [
      "✅ Parser initialized successfully\n"
     ]
    }
   ],
   "source": [
    "sys.path.append(\"scripts\") \n",
    "# Import the parser \n",
    "from hsbc_earnings_qa_parser import HSBCEarningsParser\n",
    "\n",
    "# Initialize the parser\n",
    "parser = HSBCEarningsParser()\n",
    "print(\"✅ Parser initialized successfully\")"
   ]
  },
  {
   "cell_type": "code",
   "execution_count": 3,
   "id": "3afd45ab-c706-4650-b7c4-1a5513a51951",
   "metadata": {
    "execution": {
     "iopub.execute_input": "2025-09-09T15:45:27.694547Z",
     "iopub.status.busy": "2025-09-09T15:45:27.694461Z",
     "iopub.status.idle": "2025-09-09T15:45:27.698107Z",
     "shell.execute_reply": "2025-09-09T15:45:27.697702Z",
     "shell.execute_reply.started": "2025-09-09T15:45:27.694540Z"
    }
   },
   "outputs": [
    {
     "name": "stdout",
     "output_type": "stream",
     "text": [
      "✅ Found project root: /Users/jerome.ahye/Documents/2. learn_data-science/cam_ds_course_4_ep/cam_ds_ep_FinSight\n",
      "📁 Input directory: /Users/jerome.ahye/Documents/2. learn_data-science/cam_ds_course_4_ep/cam_ds_ep_FinSight/data/raw/hsbc\n",
      "📁 Output directory: /Users/jerome.ahye/Documents/2. learn_data-science/cam_ds_course_4_ep/cam_ds_ep_FinSight/data/processed/hsbc\n",
      "✅ Found 10 PDF files!\n"
     ]
    }
   ],
   "source": [
    "# Simple approach - navigate from where your notebook is\n",
    "import os\n",
    "from pathlib import Path\n",
    "\n",
    "# If your notebook is in the same project folder, try this:\n",
    "project_root = Path.cwd()\n",
    "while project_root.name != \"cam_ds_ep_FinSight\" and project_root != project_root.parent:\n",
    "    project_root = project_root.parent\n",
    "\n",
    "if project_root.name == \"cam_ds_ep_FinSight\":\n",
    "    input_dir = project_root / \"data\" / \"raw\" / \"hsbc\"\n",
    "    output_dir = project_root / \"data\" / \"processed\" / \"hsbc\"\n",
    "    print(f\"✅ Found project root: {project_root}\")\n",
    "else:\n",
    "    # Fallback to manual path\n",
    "    input_dir = \"Documents/2. learn_data-science/cam_ds_course_4_ep/cam_ds_ep_FinSight/data/raw/hsbc\"  # Replace with your actual path\n",
    "    output_dir = \"Documents/2. learn_data-science/cam_ds_course_4_ep/cam_ds_ep_FinSight/data/processed/hsbc\"  # Replace with your actual path\n",
    "\n",
    "print(f\"📁 Input directory: {input_dir}\")\n",
    "print(f\"📁 Output directory: {output_dir}\")\n",
    "\n",
    "# Test the path\n",
    "if os.path.exists(str(input_dir)):\n",
    "    pdf_files = [f for f in os.listdir(str(input_dir)) if f.lower().endswith('.pdf')]\n",
    "    print(f\"✅ Found {len(pdf_files)} PDF files!\")\n",
    "else:\n",
    "    print(f\"❌ Still can't find the directory\")"
   ]
  },
  {
   "cell_type": "code",
   "execution_count": 4,
   "id": "ed71829b-5d67-460d-99f4-13e62e365604",
   "metadata": {
    "execution": {
     "iopub.execute_input": "2025-09-09T15:45:27.698858Z",
     "iopub.status.busy": "2025-09-09T15:45:27.698547Z",
     "iopub.status.idle": "2025-09-09T15:45:27.701653Z",
     "shell.execute_reply": "2025-09-09T15:45:27.701302Z",
     "shell.execute_reply.started": "2025-09-09T15:45:27.698851Z"
    }
   },
   "outputs": [
    {
     "name": "stdout",
     "output_type": "stream",
     "text": [
      "HSBC Executive test: {'speaker_name': 'Noel Quinn', 'role': 'Group Chief Executive', 'company': 'HSBC', 'content_start': 'Thank you for joining us today.'}\n",
      "Analyst test: {'speaker_name': 'Manus Costello', 'role': 'Analyst', 'company': 'Autonomous', 'content_start': 'Hi, thanks for taking my question.'}\n"
     ]
    }
   ],
   "source": [
    "# Test the corrected speaker extraction\n",
    "parser = HSBCEarningsParser()\n",
    "\n",
    "# Test HSBC executive (should have role=title, company=HSBC)\n",
    "test1 = \"NOEL QUINN, GROUP CHIEF EXECUTIVE: Thank you for joining us today.\"\n",
    "result1 = parser.extract_speaker_info(test1)\n",
    "print(\"HSBC Executive test:\", result1)\n",
    "\n",
    "# Test analyst (should have role=Analyst, company=firm)  \n",
    "test2 = \"MANUS COSTELLO, AUTONOMOUS: Hi, thanks for taking my question.\"\n",
    "result2 = parser.extract_speaker_info(test2)\n",
    "print(\"Analyst test:\", result2)"
   ]
  },
  {
   "cell_type": "code",
   "execution_count": 5,
   "id": "059d8d96-fac2-485a-970a-b375f7d6b194",
   "metadata": {
    "execution": {
     "iopub.execute_input": "2025-09-09T15:45:27.702398Z",
     "iopub.status.busy": "2025-09-09T15:45:27.702196Z",
     "iopub.status.idle": "2025-09-09T15:45:30.022762Z",
     "shell.execute_reply": "2025-09-09T15:45:30.022493Z",
     "shell.execute_reply.started": "2025-09-09T15:45:27.702375Z"
    }
   },
   "outputs": [
    {
     "name": "stdout",
     "output_type": "stream",
     "text": [
      "🚀 Starting processing...\n",
      "\n",
      "\n",
      "✅ Processing completed successfully!\n",
      "\n",
      "📊 Summary Statistics:\n",
      "   Total records: 376\n",
      "   Data shape: (376, 11)\n",
      "   Years covered: [np.int64(2023), np.int64(2024), np.int64(2025)]\n",
      "   Quarters covered: ['Q1', 'Q2', 'Q3', 'Q4']\n",
      "   Sections: {'qa': 354, 'presentation': 22}\n",
      "   Speakers: 41 unique speakers\n",
      "   Companies: 23 unique companies\n"
     ]
    }
   ],
   "source": [
    "# Process all PDF files in the input directory\n",
    "if pdf_files:\n",
    "    print(\"🚀 Starting processing...\\n\")\n",
    "    \n",
    "    # Run the parser\n",
    "    df_combined = parser.process_directory(input_dir, output_dir)\n",
    "    \n",
    "    if not df_combined.empty:\n",
    "        print(\"\\n✅ Processing completed successfully!\")\n",
    "        print(f\"\\n📊 Summary Statistics:\")\n",
    "        print(f\"   Total records: {len(df_combined):,}\")\n",
    "        print(f\"   Data shape: {df_combined.shape}\")\n",
    "        print(f\"   Years covered: {sorted(df_combined['year'].unique())}\")\n",
    "        print(f\"   Quarters covered: {sorted(df_combined['quarter'].unique())}\")\n",
    "        print(f\"   Sections: {df_combined['section'].value_counts().to_dict()}\")\n",
    "        print(f\"   Speakers: {df_combined['speaker_name'].nunique()} unique speakers\")\n",
    "        print(f\"   Companies: {df_combined['company'].nunique()} unique companies\")\n",
    "    else:\n",
    "        print(\"\\n❌ No data was successfully processed. Please check the PDF files and try again.\")\n",
    "else:\n",
    "    print(\"❌ No PDF files to process. Please add files to the input directory first.\")"
   ]
  }
 ],
 "metadata": {
  "kernelspec": {
   "display_name": "Python 3 (ipykernel)",
   "language": "python",
   "name": "python3"
  },
  "language_info": {
   "codemirror_mode": {
    "name": "ipython",
    "version": 3
   },
   "file_extension": ".py",
   "mimetype": "text/x-python",
   "name": "python",
   "nbconvert_exporter": "python",
   "pygments_lexer": "ipython3",
   "version": "3.12.6"
  }
 },
 "nbformat": 4,
 "nbformat_minor": 5
}
