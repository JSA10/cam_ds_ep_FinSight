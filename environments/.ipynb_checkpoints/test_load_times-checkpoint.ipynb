{
 "cells": [
  {
   "cell_type": "code",
   "execution_count": 2,
   "id": "9a111e62-39c5-4c53-b63d-702dfa00b0f1",
   "metadata": {
    "execution": {
     "iopub.execute_input": "2025-09-21T08:38:48.974007Z",
     "iopub.status.busy": "2025-09-21T08:38:48.973382Z",
     "iopub.status.idle": "2025-09-21T08:38:51.224526Z",
     "shell.execute_reply": "2025-09-21T08:38:51.224244Z",
     "shell.execute_reply.started": "2025-09-21T08:38:48.973969Z"
    }
   },
   "outputs": [
    {
     "name": "stdout",
     "output_type": "stream",
     "text": [
      "numpy                       0.06s\n",
      "pandas                      0.24s\n",
      "matplotlib                  0.08s\n",
      "seaborn                     0.61s\n",
      "torch                       0.62s\n",
      "transformers                0.60s\n",
      "sklearn                     0.04s\n"
     ]
    }
   ],
   "source": [
    "import time, importlib, traceback\n",
    "\n",
    "mods = [\n",
    "    \"numpy\",\"pandas\",\"matplotlib\",\"seaborn\",\"torch\",\"transformers\",\n",
    "     \"sklearn\" #\"llama_cpp\", \"sentence_transformers\"\n",
    "]\n",
    "\n",
    "for name in mods:\n",
    "    t0 = time.time()\n",
    "    try:\n",
    "        importlib.import_module(name)\n",
    "        dur = time.time() - t0\n",
    "        print(f\"{name:24s}  {dur:6.2f}s\")\n",
    "    except Exception:\n",
    "        dur = time.time() - t0\n",
    "        print(f\"{name:24s}  FAILED after {dur:6.2f}s\")\n",
    "        traceback.print_exc(limit=1)"
   ]
  },
  {
   "cell_type": "code",
   "execution_count": 1,
   "id": "dc23a760-5505-49a5-91c1-5ad0c9d2c029",
   "metadata": {
    "execution": {
     "iopub.execute_input": "2025-09-21T10:31:09.025707Z",
     "iopub.status.busy": "2025-09-21T10:31:09.025479Z",
     "iopub.status.idle": "2025-09-21T10:31:09.777869Z",
     "shell.execute_reply": "2025-09-21T10:31:09.777520Z",
     "shell.execute_reply.started": "2025-09-21T10:31:09.025688Z"
    }
   },
   "outputs": [
    {
     "name": "stdout",
     "output_type": "stream",
     "text": [
      "MPS built: True\n",
      "MPS available (usable): True\n"
     ]
    }
   ],
   "source": [
    "import torch\n",
    "print(\"MPS built:\", torch.backends.mps.is_built())\n",
    "print(\"MPS available (usable):\", torch.backends.mps.is_available())\n"
   ]
  },
  {
   "cell_type": "code",
   "execution_count": null,
   "id": "34ec25be-3726-4886-9c15-8a69b54d758a",
   "metadata": {
    "execution": {
     "execution_failed": "2025-09-21T10:50:01.865Z",
     "iopub.execute_input": "2025-09-21T10:49:16.518943Z",
     "iopub.status.busy": "2025-09-21T10:49:16.518799Z"
    }
   },
   "outputs": [
    {
     "name": "stdout",
     "output_type": "stream",
     "text": [
      "Transformers + Torch import: 1.34 sec\n"
     ]
    }
   ],
   "source": [
    "import time\n",
    "\n",
    "t0 = time.time()\n",
    "import transformers \n",
    "import torch\n",
    "print(\"Transformers + Torch import:\", round(time.time()-t0, 2), \"sec\")\n",
    "\n",
    "from transformers import AutoTokenizer, AutoModelForSeq2SeqLM\n",
    "\n",
    "MODEL_ID = \"facebook/bart-large-cnn\"\n",
    "t1 = time.time()\n",
    "tok = AutoTokenizer.from_pretrained(MODEL_ID)\n",
    "mdl = AutoModelForSeq2SeqLM.from_pretrained(MODEL_ID)\n",
    "print(\"Model load:\", round(time.time()-t1, 2), \"sec\")\n"
   ]
  },
  {
   "cell_type": "code",
   "execution_count": null,
   "id": "2b934281-3dcb-40c4-87e5-bd6aa48a767e",
   "metadata": {
    "execution": {
     "execution_failed": "2025-09-21T10:49:06.762Z",
     "iopub.execute_input": "2025-09-21T10:41:08.443164Z",
     "iopub.status.busy": "2025-09-21T10:41:08.442918Z"
    }
   },
   "outputs": [
    {
     "data": {
      "application/vnd.jupyter.widget-view+json": {
       "model_id": "dc7afdb391b542ed94e7b7b12dde952f",
       "version_major": 2,
       "version_minor": 0
      },
      "text/plain": [
       "config.json: 0.00B [00:00, ?B/s]"
      ]
     },
     "metadata": {},
     "output_type": "display_data"
    },
    {
     "data": {
      "application/vnd.jupyter.widget-view+json": {
       "model_id": "061209ff5483450f9b517687da54385f",
       "version_major": 2,
       "version_minor": 0
      },
      "text/plain": [
       "vocab.json: 0.00B [00:00, ?B/s]"
      ]
     },
     "metadata": {},
     "output_type": "display_data"
    },
    {
     "data": {
      "application/vnd.jupyter.widget-view+json": {
       "model_id": "af6d43e6e64744b6bca14bb78bcc9b06",
       "version_major": 2,
       "version_minor": 0
      },
      "text/plain": [
       "merges.txt: 0.00B [00:00, ?B/s]"
      ]
     },
     "metadata": {},
     "output_type": "display_data"
    },
    {
     "data": {
      "application/vnd.jupyter.widget-view+json": {
       "model_id": "7df7e05ef98f4e68926ab44eb68383eb",
       "version_major": 2,
       "version_minor": 0
      },
      "text/plain": [
       "tokenizer.json: 0.00B [00:00, ?B/s]"
      ]
     },
     "metadata": {},
     "output_type": "display_data"
    }
   ],
   "source": [
    "# Example for seq2seq summariser\n",
    "from transformers import AutoTokenizer, AutoModelForSeq2SeqLM\n",
    "import torch\n",
    "\n",
    "MODEL_ID = \"facebook/bart-large-cnn\"\n",
    "tok = AutoTokenizer.from_pretrained(MODEL_ID)\n",
    "mdl = AutoModelForSeq2SeqLM.from_pretrained(MODEL_ID)\n",
    "\n",
    "device = \"mps\" if torch.backends.mps.is_available() else \"cpu\"\n",
    "mdl = mdl.to(device)\n",
    "\n",
    "print(\"Model device:\", next(mdl.parameters()).device)  # should print mps:0 if on Metal\n"
   ]
  }
 ],
 "metadata": {
  "kernelspec": {
   "display_name": "Python 3 (ipykernel)",
   "language": "python",
   "name": "python3"
  },
  "language_info": {
   "codemirror_mode": {
    "name": "ipython",
    "version": 3
   },
   "file_extension": ".py",
   "mimetype": "text/x-python",
   "name": "python",
   "nbconvert_exporter": "python",
   "pygments_lexer": "ipython3",
   "version": "3.12.6"
  }
 },
 "nbformat": 4,
 "nbformat_minor": 5
}
