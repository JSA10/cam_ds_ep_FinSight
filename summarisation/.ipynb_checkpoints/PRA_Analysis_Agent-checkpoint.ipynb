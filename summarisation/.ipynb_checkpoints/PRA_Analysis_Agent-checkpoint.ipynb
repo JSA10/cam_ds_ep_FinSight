{
 "cells": [
  {
   "cell_type": "markdown",
   "id": "e53339b8-2b13-4e00-8978-93ac41d9140b",
   "metadata": {},
   "source": [
    "# PRA Analysis Agent demo\n",
    "\n",
    "**Scaling analysis to get insights into the hands of PRA supervisors more quickly after earnings**\n",
    "\n",
    "This notebook creates an analysis agent using Open AIs — GPT-4.1-nano model to synthesise the teams analysis into a concise summary for PRA Supervisors to showcase potential areas of risk discussed in the last two earnings calls of 2O25 and highlight some areas to watch for Q3. \n",
    "\n",
    "The analysis threads brought together cover our deep dives into identifying the themes (topics) discussed, mapping these to PRA risk categories, assessing the associated sentimemnt of each risk category and where bankers and analyst sentiment diverge, before highlighting where G-SIB bankers may have been evasive in their answers for each bank and in comparison to each other. \n",
    "\n",
    "This notebook: \n",
    "- Reads team csv outputs in ../data/\n",
    "- Prepares them for the agent to focus on Q1 & Q2 2025 for JP Morgan + HSBC\n",
    "- The agent produces a PRA-aligned narrative (Thematic Focus, Sentiment, Summarisation & Evasion, Benchmarking)\n",
    "- Outputs: markdown strings + .md files in ./_outputs"
   ]
  },
  {
   "cell_type": "markdown",
   "id": "c85d3770-a9bc-4c09-95cb-843139805aef",
   "metadata": {},
   "source": [
    "## Load libraries and model"
   ]
  },
  {
   "cell_type": "code",
   "execution_count": 5,
   "id": "d31bfb7e-461f-4a8f-8150-36ec8cb0af6e",
   "metadata": {
    "execution": {
     "iopub.execute_input": "2025-10-02T16:13:09.033726Z",
     "iopub.status.busy": "2025-10-02T16:13:09.033595Z",
     "iopub.status.idle": "2025-10-02T16:13:10.930129Z",
     "shell.execute_reply": "2025-10-02T16:13:10.929898Z",
     "shell.execute_reply.started": "2025-10-02T16:13:09.033717Z"
    }
   },
   "outputs": [
    {
     "name": "stdout",
     "output_type": "stream",
     "text": [
      "Key visible: True\n"
     ]
    }
   ],
   "source": [
    "import os, json, glob\n",
    "from pathlib import Path\n",
    "import pandas as pd\n",
    "from datetime import datetime\n",
    "print(\"Key visible:\", bool(os.environ.get(\"OPENAI_API_KEY\")))  # should be True"
   ]
  },
  {
   "cell_type": "code",
   "execution_count": 4,
   "id": "b97c661e-93e1-44f4-9837-fc9ae1875a29",
   "metadata": {
    "execution": {
     "iopub.execute_input": "2025-10-02T16:12:50.694529Z",
     "iopub.status.busy": "2025-10-02T16:12:50.694329Z",
     "iopub.status.idle": "2025-10-02T16:12:52.275773Z",
     "shell.execute_reply": "2025-10-02T16:12:52.275486Z",
     "shell.execute_reply.started": "2025-10-02T16:12:50.694521Z"
    }
   },
   "outputs": [
    {
     "name": "stdout",
     "output_type": "stream",
     "text": [
      "Hello! How can I assist you today?\n"
     ]
    }
   ],
   "source": [
    "from openai import OpenAI\n",
    "from openai import RateLimitError, APIStatusError\n",
    "\n",
    "client = OpenAI()\n",
    "MODEL = \"gpt-4.1-nano\"\n",
    "\n",
    "def call_o4(input_text):\n",
    "    try:\n",
    "        return client.responses.create(model=MODEL, input=input_text, max_output_tokens=64)\n",
    "    except RateLimitError as e:\n",
    "        # 429 can mean rate-limit OR insufficient_quota; inspect the message\n",
    "        msg = str(e).lower()\n",
    "        if \"insufficient_quota\" in msg or \"check your plan and billing\" in msg:\n",
    "            raise SystemExit(\"❗No API credit/budget on this project. Add billing/credits and retry.\")\n",
    "        else:\n",
    "            # normal rate limiting — backoff and retry\n",
    "            import time\n",
    "            time.sleep(2)\n",
    "            return client.responses.create(model=MODEL, input=input_text, max_output_tokens=64)\n",
    "    except APIStatusError as e:\n",
    "        raise SystemExit(f\"API error {e.status_code}: {e}\")\n",
    "\n",
    "print(call_o4(\"ok\").output_text.strip())"
   ]
  },
  {
   "cell_type": "markdown",
   "id": "55f999d4-b29a-4351-8d38-c73e3a6f7ce7",
   "metadata": {},
   "source": [
    "## Define configurations"
   ]
  },
  {
   "cell_type": "code",
   "execution_count": 23,
   "id": "72e1f1be-af79-4ae9-a5ed-673286dc0dbb",
   "metadata": {
    "execution": {
     "iopub.execute_input": "2025-10-02T16:33:41.350519Z",
     "iopub.status.busy": "2025-10-02T16:33:41.350252Z",
     "iopub.status.idle": "2025-10-02T16:33:41.352851Z",
     "shell.execute_reply": "2025-10-02T16:33:41.352562Z",
     "shell.execute_reply.started": "2025-10-02T16:33:41.350511Z"
    }
   },
   "outputs": [],
   "source": [
    "# --- CONFIG ---\n",
    "DATA_DIR = Path(\"./data\")              # adjust if needed\n",
    "OUT_DIR  = Path(\"./_outputs\"); OUT_DIR.mkdir(exist_ok=True)\n",
    "\n",
    "BANKS = [\"jpm\", \"hsbc\"]\n",
    "FOCUS_YEAR = 2025\n",
    "FOCUS_QS = {\"Q1\",\"Q2\"}\n",
    "\n",
    "# Explicit filenames for this run\n",
    "TOPIC_FILES = [\n",
    "    DATA_DIR / \"jpm_pra_topics_23_25.csv\",\n",
    "    DATA_DIR / \"hsbc_pra_topics_23_25.csv\",\n",
    "]\n",
    "\n",
    "SENTI_AGG_FILE = DATA_DIR / \"sentiment_PRA_aggregated.csv\"\n",
    "SENTI_QNA_FILE = DATA_DIR / \"sentiment_with_PRA_bank_labels_deduped.csv\"\n",
    "\n",
    "EVASION_FILES = [\n",
    "    DATA_DIR / \"jpm_2025_evasion_predictions_pra.csv\",\n",
    "    DATA_DIR / \"hsbc_2025_evasion_predictions_pra.csv\",\n",
    "]"
   ]
  },
  {
   "cell_type": "markdown",
   "id": "0135d7ab-5c45-4b4e-8577-554cb4e8e544",
   "metadata": {},
   "source": [
    "## Load output CSVs from Data Science Analysis"
   ]
  },
  {
   "cell_type": "code",
   "execution_count": 31,
   "id": "5f4a8115-84f5-4335-a94c-3b10730d1e83",
   "metadata": {
    "execution": {
     "iopub.execute_input": "2025-10-02T16:49:39.874068Z",
     "iopub.status.busy": "2025-10-02T16:49:39.873864Z",
     "iopub.status.idle": "2025-10-02T16:49:39.908885Z",
     "shell.execute_reply": "2025-10-02T16:49:39.908597Z",
     "shell.execute_reply.started": "2025-10-02T16:49:39.874058Z"
    }
   },
   "outputs": [],
   "source": [
    "# --- LOAD ---\n",
    "def load_topics():\n",
    "    dfs = []\n",
    "    for f in TOPIC_FILES:\n",
    "        df = pd.read_csv(f)\n",
    "        if 'bank' not in df.columns:\n",
    "            bank = \"JPM\" if \"jpm\" in f.name.lower() else \"HSBC\"\n",
    "            df['bank'] = bank\n",
    "        if 'quarter' in df.columns:\n",
    "            df['quarter'] = (\n",
    "                df['quarter'].astype(str)\n",
    "                  .str.upper()\n",
    "                  .str.replace(\" \", \"\")\n",
    "                  .str.replace(\"INTERIM\",\"Q2\")\n",
    "                  .str.replace(\"ANNUAL\",\"Q4\")\n",
    "            )\n",
    "        dfs.append(df)\n",
    "    return pd.concat(dfs, ignore_index=True)\n",
    "\n",
    "def load_sentiment():\n",
    "    agg = pd.read_csv(SENTI_AGG_FILE)\n",
    "    qna = pd.read_csv(SENTI_QNA_FILE)\n",
    "    for d in (agg, qna):\n",
    "        if 'bank' in d.columns:\n",
    "            d['bank'] = d['bank'].str.upper()\n",
    "        if 'quarter' in d.columns:\n",
    "            d['quarter'] = d['quarter'].astype(str).str.upper().str.replace(\" \", \"\")\n",
    "    return agg, qna\n",
    "\n",
    "def load_evasion(files):\n",
    "    dfs = []\n",
    "    for f in files:\n",
    "        bank = \"JPM\" if \"jpm\" in f.name.lower() else \"HSBC\"\n",
    "        df = pd.read_csv(f)\n",
    "        df['bank'] = bank\n",
    "        if 'quarter' in df.columns:\n",
    "            df['quarter'] = df['quarter'].astype(str).str.upper().str.replace(\" \", \"\")\n",
    "        dfs.append(df)\n",
    "    return pd.concat(dfs, ignore_index=True)\n",
    "\n",
    "\n",
    "topics = load_topics()\n",
    "sent_agg, sent_qna = load_sentiment()\n",
    "evasion = load_evasion([\n",
    "    DATA_DIR / \"jpm_2025_evasion_predictions_pra.csv\",\n",
    "    DATA_DIR / \"hsbc_2025_evasion_predictions_pra.csv\",\n",
    "])"
   ]
  },
  {
   "cell_type": "markdown",
   "id": "c1155106-aee1-48fc-bee0-fb415e857ee8",
   "metadata": {},
   "source": [
    "## Prepare data for the LLM agent"
   ]
  },
  {
   "cell_type": "code",
   "execution_count": 33,
   "id": "0ee48683-3137-49fa-aaa3-1729e482c31d",
   "metadata": {
    "execution": {
     "iopub.execute_input": "2025-10-02T16:49:47.637487Z",
     "iopub.status.busy": "2025-10-02T16:49:47.637359Z",
     "iopub.status.idle": "2025-10-02T16:49:47.642256Z",
     "shell.execute_reply": "2025-10-02T16:49:47.642010Z",
     "shell.execute_reply.started": "2025-10-02T16:49:47.637478Z"
    }
   },
   "outputs": [],
   "source": [
    "# --- FILTER: Q1 & Q2 2025 latest per bank ---\n",
    "def filt_q1_q2_2025(df):\n",
    "    ymask = df['year'].astype(int).eq(FOCUS_YEAR) if 'year' in df.columns else True\n",
    "    qmask = df['quarter'].isin(FOCUS_QS) if 'quarter' in df.columns else True\n",
    "    return df[ymask & qmask].copy()\n",
    "\n",
    "T24 = filt_q1_q2_2025(topics)\n",
    "SA24 = filt_q1_q2_2025(sent_agg)\n",
    "SQ24 = filt_q1_q2_2025(sent_qna)\n",
    "E24  = filt_q1_q2_2025(evasion)"
   ]
  },
  {
   "cell_type": "code",
   "execution_count": 34,
   "id": "3c1eae08-e801-45ba-9066-28eb07a95283",
   "metadata": {
    "execution": {
     "iopub.execute_input": "2025-10-02T16:49:57.544627Z",
     "iopub.status.busy": "2025-10-02T16:49:57.544423Z",
     "iopub.status.idle": "2025-10-02T16:49:57.551214Z",
     "shell.execute_reply": "2025-10-02T16:49:57.550828Z",
     "shell.execute_reply.started": "2025-10-02T16:49:57.544616Z"
    }
   },
   "outputs": [],
   "source": [
    "# --- AGGREGATIONS we’ll pass to the LLM (keep it tiny & factual) ---\n",
    "def thematic_summary(df):\n",
    "    if df.empty: \n",
    "        return []\n",
    "    # dominant topics by PRA category and topic_label\n",
    "    g = (df.groupby(['bank','pra_category','topic_label'], dropna=False)\n",
    "           .size()\n",
    "           .reset_index(name='count'))\n",
    "    top = (g.sort_values(['bank','pra_category','count'], ascending=[True,True,False])\n",
    "             .groupby(['bank','pra_category'])\n",
    "             .head(3))\n",
    "    # roll-up by PRA category to rank categories overall\n",
    "    cats = (df.groupby(['bank','pra_category']).size()\n",
    "              .reset_index(name='qna_count')\n",
    "              .sort_values(['bank','qna_count'], ascending=[True,False]))\n",
    "    return {\n",
    "        \"top_topics_per_category\": top.to_dict(orient=\"records\"),\n",
    "        \"category_rank\": cats.to_dict(orient=\"records\")\n",
    "    }\n",
    "\n",
    "def sentiment_divergence(agg_df, qna_df, bank_name=None):\n",
    "    out = {}\n",
    "    if not agg_df.empty:\n",
    "        piv = (\n",
    "            agg_df.groupby(['pra_category','role'])[['negative','neutral','positive']]\n",
    "            .mean()\n",
    "            .reset_index()\n",
    "        )\n",
    "        if bank_name:\n",
    "            piv['bank'] = bank_name.upper()\n",
    "        out[\"role_divergence\"] = piv.to_dict(orient=\"records\")\n",
    "    if not qna_df.empty:\n",
    "        cols = [c for c in qna_df.columns if c.startswith(\"sentiment_finbert\")]\n",
    "        keep = ['bank','pra_category','quarter'] + cols\n",
    "        out[\"qna_samples\"] = qna_df[keep].head(100).to_dict(orient=\"records\")\n",
    "    return out\n",
    "\n",
    "def evasion_summary(ev):\n",
    "    if ev.empty: return {}\n",
    "    # Expect columns like: 'evasion_score' or 'evasion_label'/'is_evasive'\n",
    "    score_col = next((c for c in ev.columns if c.lower() in [\"evasion_score\",\"evasive_score\",\"evasion_prob\",\"ev_prob\"]), None)\n",
    "    label_col = next((c for c in ev.columns if c.lower() in [\"evasion_label\",\"is_evasive\",\"evasive_flag\"]), None)\n",
    "\n",
    "    agg = []\n",
    "    for bank in sorted(ev['bank'].unique()):\n",
    "        sub = ev[ev['bank']==bank]\n",
    "        by_cat = sub.groupby(sub.get('pra_category','Unmapped')).agg(\n",
    "            qna_count=('bank','count'),\n",
    "            avg_score=(score_col,'mean') if score_col in sub.columns else ('bank','count'),\n",
    "            evasive_rate=((label_col, lambda x: pd.Series(x).astype(str).str.lower().isin(['1','true','yes','evasive']).mean())\n",
    "                          if label_col in sub.columns else ('bank','count'))\n",
    "        )\n",
    "        by_cat = by_cat.reset_index(names='pra_category')\n",
    "        top_evasive = by_cat.sort_values(['avg_score' if score_col else 'qna_count'], ascending=False).head(5)\n",
    "        agg.append({\"bank\": bank, \"by_category\": by_cat.to_dict(orient=\"records\"),\n",
    "                    \"top_evasive\": top_evasive.to_dict(orient=\"records\")})\n",
    "    return {\"evasion_by_bank\": agg}\n"
   ]
  },
  {
   "cell_type": "markdown",
   "id": "adb5933b-c990-4ff9-8e0f-f7952316ce66",
   "metadata": {},
   "source": [
    "## Setup context payload for the analysis agent"
   ]
  },
  {
   "cell_type": "code",
   "execution_count": 42,
   "id": "54b6e292-361f-416c-9ad5-1e40c9a7a220",
   "metadata": {
    "execution": {
     "iopub.execute_input": "2025-10-02T18:36:57.107189Z",
     "iopub.status.busy": "2025-10-02T18:36:57.106710Z",
     "iopub.status.idle": "2025-10-02T18:36:57.124420Z",
     "shell.execute_reply": "2025-10-02T18:36:57.124091Z",
     "shell.execute_reply.started": "2025-10-02T18:36:57.107176Z"
    }
   },
   "outputs": [],
   "source": [
    "sentiment_payload = {\n",
    "    \"JPM\": sentiment_divergence(SA24, SQ24[SQ24['bank']==\"JPM\"], bank_name=\"JPM\"),\n",
    "    \"HSBC\": sentiment_divergence(SA24, SQ24[SQ24['bank']==\"HSBC\"], bank_name=\"HSBC\")\n",
    "}\n",
    "\n",
    "facts_payload = {\n",
    "    \"timebox\": {\"year\": FOCUS_YEAR, \"quarters\": sorted(FOCUS_QS)},\n",
    "    \"thematics\": thematic_summary(T24),\n",
    "    \"sentiment\": sentiment_payload,\n",
    "    \"evasion\": evasion_summary(E24),\n",
    "}"
   ]
  },
  {
   "cell_type": "markdown",
   "id": "bed5f41e-29a1-431f-a549-bf422fbc66f8",
   "metadata": {},
   "source": [
    "## Prepare prompt with focused instructions"
   ]
  },
  {
   "cell_type": "code",
   "execution_count": 43,
   "id": "cf4d274c-1fbc-4d46-b076-5d3a805babab",
   "metadata": {
    "execution": {
     "iopub.execute_input": "2025-10-02T18:37:00.585688Z",
     "iopub.status.busy": "2025-10-02T18:37:00.585554Z",
     "iopub.status.idle": "2025-10-02T18:37:00.587987Z",
     "shell.execute_reply": "2025-10-02T18:37:00.587661Z",
     "shell.execute_reply.started": "2025-10-02T18:37:00.585679Z"
    }
   },
   "outputs": [],
   "source": [
    "# --- PROMPT: tightly-scoped & schema’d for a PRA narrative ---\n",
    "SYSTEM = (\n",
    "    \"You are a concise regulatory analyst. Draft PRA-ready intelligence from structured facts. \"\n",
    "    \"Use bullets and short paragraphs. Avoid speculation; cite only the provided facts. \"\n",
    "    \"Organize strictly by: 1) Thematic Focus, 2) Sentiment Analysis, 3) Summarisation & Evasion, 4) Benchmarking, \"\n",
    "    \"then a short 'Q3 Watch-outs'.\"\n",
    ")\n",
    "\n",
    "USER_INSTRUCTIONS = (\n",
    "    \"Synthesize the findings for Q1–Q2 2025 for JPM and HSBC using the provided facts. \"\n",
    "    \"Map themes to PRA categories; highlight repeated risks; compare banker vs analyst tone; \"\n",
    "    \"summarize evasiveness hot-spots with examples of categories where evasion is highest; \"\n",
    "    \"and benchmark the two banks (systemic vs firm-specific divergences). \"\n",
    "    \"Keep it < 600 words. Output valid GitHub-flavored Markdown.\"\n",
    ")\n",
    "\n",
    "def call_llm(model, system, user, facts):\n",
    "    resp = client.responses.create(\n",
    "        model=model,\n",
    "        input=[\n",
    "            {\"role\": \"system\", \"content\": system},\n",
    "            {\"role\": \"user\", \"content\": user},\n",
    "            {\"role\": \"user\", \"content\": \"Facts JSON:\\n\" + json.dumps(facts, ensure_ascii=False, separators=(\",\", \":\"))}\n",
    "        ],\n",
    "        max_output_tokens=900,\n",
    "        temperature=0.2,\n",
    "    )\n",
    "    # navigate to text output\n",
    "    return resp.output[0].content[0].text"
   ]
  },
  {
   "cell_type": "markdown",
   "id": "275fd348-7d52-4b89-a98a-ed9d89c46f46",
   "metadata": {},
   "source": [
    "## Run analysis, saving markdown report"
   ]
  },
  {
   "cell_type": "code",
   "execution_count": 40,
   "id": "253a06f9-6941-4f52-9c63-e62bf7248ce9",
   "metadata": {
    "execution": {
     "iopub.execute_input": "2025-10-02T16:51:59.614965Z",
     "iopub.status.busy": "2025-10-02T16:51:59.614802Z",
     "iopub.status.idle": "2025-10-02T16:52:10.336530Z",
     "shell.execute_reply": "2025-10-02T16:52:10.336169Z",
     "shell.execute_reply.started": "2025-10-02T16:51:59.614955Z"
    }
   },
   "outputs": [],
   "source": [
    "report_md = call_llm(MODEL, SYSTEM, USER_INSTRUCTIONS, facts_payload)"
   ]
  },
  {
   "cell_type": "code",
   "execution_count": 46,
   "id": "be659093-ffd6-4a95-baa7-45c30a2112d3",
   "metadata": {
    "execution": {
     "iopub.execute_input": "2025-10-02T18:40:24.200858Z",
     "iopub.status.busy": "2025-10-02T18:40:24.200654Z",
     "iopub.status.idle": "2025-10-02T18:40:24.203640Z",
     "shell.execute_reply": "2025-10-02T18:40:24.203321Z",
     "shell.execute_reply.started": "2025-10-02T18:40:24.200846Z"
    }
   },
   "outputs": [
    {
     "name": "stdout",
     "output_type": "stream",
     "text": [
      "\n",
      "--- PRA synthesis saved: _outputs/PRA_synthesis_Q1Q2_2025_20251002-1940.md\n",
      "\n",
      "# Q1–Q2 2025 Regulatory Findings: JPM vs HSBC\n",
      "\n",
      "## 1. Thematic Focus (Mapped to PRA Categories)\n",
      "\n",
      "### HSBC\n",
      "- **Capital Adequacy**: Dominant topic with 9 mentions, focusing on revenue growth, impairment, and hedge structures.\n",
      "- **Conduct Risk**: Significant attention (19 mentions), notably around China trade scenarios, tariffs, and CRE.\n",
      "- **Governance**: High outlier count (23 mentions), indicating governance concerns.\n",
      "- **Liquidity**: Moderate focus (6 mentions), emphasizing rate sensitivity and growth.\n",
      "- **Unmapped Topics**: Notable mentions (10), including costs, Mexico operations, and connected segments.\n",
      "\n",
      "### JPM\n",
      "- **Governance**: Most prominent (75 mentions), with frequent references to outliers and follow-up interactions.\n",
      "- **Capital Adequacy**: Heavy focus (19 mentions), especially Basel III and endgame discussions.\n",
      "- **Conduct Risk**: Considerable mentions (26), often related to market conditions and economic outlook.\n",
      "- **Unmapped Topics**: Present but less prominent (11), including yield curves and year-end considerations.\n",
      "- **Other Topics**: Notably, credit, market, and liquidity risks are discussed but less frequently.\n",
      "\n",
      "## 2. Sentiment Analysis\n",
      "\n",
      "### JPM\n",
      "- **Banker vs Analyst Divergence**: \n",
      "  - **Bankers** tend to express more positive sentiment in capital adequacy (positive scores up to 18) and market risk (up to 18), with negative banker sentiment slightly higher than analysts.\n",
      "  - **Analysts** show more negative views, especially in credit risk (negative score 1.0) \n",
      "...\n",
      "\n"
     ]
    }
   ],
   "source": [
    "# --- Save & show ---\n",
    "stamp = datetime.now().strftime(\"%Y%m%d-%H%M\")\n",
    "out_path = OUT_DIR / f\"PRA_synthesis_Q1Q2_{FOCUS_YEAR}_{stamp}.md\"\n",
    "out_path.write_text(report_md, encoding=\"utf-8\")\n",
    "print(f\"\\n--- PRA synthesis saved: {out_path}\\n\")\n",
    "print(report_md[:1500] + (\"\\n...\\n\" if len(report_md)>1500 else \"\\n\"))\n"
   ]
  },
  {
   "cell_type": "markdown",
   "id": "c6844f3c-3cfe-4844-9da3-fa1df86b8781",
   "metadata": {},
   "source": [
    "# GENERATED REPORT"
   ]
  },
  {
   "cell_type": "markdown",
   "id": "b4cd95d8-de86-4baf-8208-5ba344f2339e",
   "metadata": {},
   "source": [
    "# Q1–Q2 2025 Regulatory Findings: JPM vs HSBC\n",
    "\n",
    "## 1. Thematic Focus (Mapped to PRA Categories)\n",
    "\n",
    "### HSBC\n",
    "- **Capital Adequacy**: Dominant topic with 9 mentions, focusing on revenue growth, impairment, and hedge structures.\n",
    "- **Conduct Risk**: Significant attention (19 mentions), notably around China trade scenarios, tariffs, and CRE.\n",
    "- **Governance**: High outlier count (23 mentions), indicating governance concerns.\n",
    "- **Liquidity**: Moderate focus (6 mentions), emphasizing rate sensitivity and growth.\n",
    "- **Unmapped Topics**: Notable mentions (10), including costs, Mexico operations, and connected segments.\n",
    "\n",
    "### JPM\n",
    "- **Governance**: Most prominent (75 mentions), with frequent references to outliers and follow-up interactions.\n",
    "- **Capital Adequacy**: Heavy focus (19 mentions), especially Basel III and endgame discussions.\n",
    "- **Conduct Risk**: Considerable mentions (26), often related to market conditions and economic outlook.\n",
    "- **Unmapped Topics**: Present but less prominent (11), including yield curves and year-end considerations.\n",
    "- **Other Topics**: Notably, credit, market, and liquidity risks are discussed but less frequently.\n",
    "\n",
    "## 2. Sentiment Analysis\n",
    "\n",
    "### JPM\n",
    "- **Banker vs Analyst Divergence**: \n",
    "  - **Bankers** tend to express more positive sentiment in capital adequacy (positive scores up to 18) and market risk (up to 18), with negative banker sentiment slightly higher than analysts.\n",
    "  - **Analysts** show more negative views, especially in credit risk (negative score 1.0) and market risk (negative score 2.0).\n",
    "- **Overall**: Slightly more optimistic tone from bankers in capital and market topics; analysts remain cautious, especially on credit.\n",
    "\n",
    "### HSBC\n",
    "- **Banker vs Analyst Divergence**:\n",
    "  - Similar pattern: bankers more positive (up to 18), analysts more neutral or negative.\n",
    "  - Notably, in credit risk, analysts' negative sentiment (score ~0.99) contrasts with bankers' more negative view (score ~3.0).\n",
    "- **Overall**: Slightly more positive sentiment from bankers; analysts maintain a cautious stance, especially on credit and conduct risks.\n",
    "\n",
    "## 3. Summarisation & Evasion Hot-Spots\n",
    "\n",
    "### Hot-Spots of Evasion\n",
    "- **HSBC**:\n",
    "  - Highest evasion in **Capital Adequacy** (17%), with frequent Q&A evasion.\n",
    "  - Other categories: Costs & Efficiency, Credit Risk, and Interest Rate Risk each at 5-6%.\n",
    "  - Evasion primarily involves vague responses, avoiding detailed disclosures.\n",
    "- **JPM**:\n",
    "  - Most evasive in **Capital Adequacy** (31%), followed by **Unmapped** topics (21%), and Credit Risk (12%).\n",
    "  - Notable evasion in strategy and guidance (8%), indicating reluctance to clarify future plans.\n",
    "  - Evasion often involves non-specific answers or deflections, especially on complex or sensitive topics.\n",
    "\n",
    "### Evasion Hot-Spot Examples\n",
    "- **HSBC**: \"Outliers\" and \"costs\" categories frequently evade specifics.\n",
    "- **JPM**: \"Unmapped\" and \"Capital Adequacy\" are hot spots, with high counts and evasive responses.\n",
    "\n",
    "## 4. Benchmarking: Systemic vs Firm-Specific Divergences\n",
    "\n",
    "| Aspect | HSBC | JPM |\n",
    "|---------|--------|-------|\n",
    "| **Governance** | High outlier count (23), moderate sentiment positivity | Very high outlier count (75), more frequent evasions |  \n",
    "| **Capital Adequacy** | Focused on impairment, hedge structures; moderate sentiment | Heavy focus on Basel III, endgame; more evasions |  \n",
    "| **Conduct Risk** | Significant but less than JPM; concerns around China trade | Most mentions, indicating heightened concern |  \n",
    "| **Evasion** | Moderate, mainly in governance and costs | High, especially in capital adequacy and unmapped topics |  \n",
    "| **Sentiment** | Generally positive from bankers, cautious analysts | Slightly positive banker tone, more cautious analysts |\n",
    "\n",
    "### Divergences\n",
    "- JPM exhibits more systemic governance issues and higher evasion, indicating potential systemic risks.\n",
    "- HSBC's focus remains more on specific topics like CRE and tariffs, with\n",
    "...\n"
   ]
  }
 ],
 "metadata": {
  "kernelspec": {
   "display_name": "Python 3 (ipykernel)",
   "language": "python",
   "name": "python3"
  },
  "language_info": {
   "codemirror_mode": {
    "name": "ipython",
    "version": 3
   },
   "file_extension": ".py",
   "mimetype": "text/x-python",
   "name": "python",
   "nbconvert_exporter": "python",
   "pygments_lexer": "ipython3",
   "version": "3.12.6"
  }
 },
 "nbformat": 4,
 "nbformat_minor": 5
}
