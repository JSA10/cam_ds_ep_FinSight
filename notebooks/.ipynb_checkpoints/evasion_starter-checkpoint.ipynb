{
 "cells": [
  {
   "cell_type": "code",
   "execution_count": 1,
   "id": "1f064b5a-019a-4e7e-93c3-bcb9ffc76ba2",
   "metadata": {
    "execution": {
     "iopub.execute_input": "2025-09-21T11:57:40.264196Z",
     "iopub.status.busy": "2025-09-21T11:57:40.264039Z",
     "iopub.status.idle": "2025-09-21T11:57:40.611399Z",
     "shell.execute_reply": "2025-09-21T11:57:40.611136Z",
     "shell.execute_reply.started": "2025-09-21T11:57:40.264185Z"
    }
   },
   "outputs": [],
   "source": [
    "\"\"\"\n",
    "PRA Risk Summaries & Evasiveness Detector (2023–2025, JPM & HSBC)\n",
    "Run as a script or copy cells into Jupyter. Designed for Apple Silicon (M3) with MPS.\n",
    "\"\"\"\n",
    "\n",
    "import os, platform, sys, re, json, warnings\n",
    "from pathlib import Path\n",
    "import pandas as pd\n",
    "import numpy as np\n"
   ]
  },
  {
   "cell_type": "code",
   "execution_count": 2,
   "id": "54dd523e-bc9a-42a9-bbdc-3c93066bb84b",
   "metadata": {
    "execution": {
     "iopub.execute_input": "2025-09-21T11:57:42.679903Z",
     "iopub.status.busy": "2025-09-21T11:57:42.679628Z",
     "iopub.status.idle": "2025-09-21T11:57:42.681784Z",
     "shell.execute_reply": "2025-09-21T11:57:42.681520Z",
     "shell.execute_reply.started": "2025-09-21T11:57:42.679895Z"
    }
   },
   "outputs": [
    {
     "name": "stdout",
     "output_type": "stream",
     "text": [
      "Python: 3.12.6 (main, Sep  6 2024, 19:03:47) [Clang 15.0.0 (clang-1500.3.9.4)]\n",
      "Platform: macOS-15.5-arm64-arm-64bit\n",
      "CWD: /Users/jerome.ahye/Documents/2. learn_data-science/cam_ds_course_4_ep/cam_ds_ep_FinSight/notebooks\n"
     ]
    }
   ],
   "source": [
    "warnings.filterwarnings(\"ignore\")\n",
    "\n",
    "print(\"Python:\", sys.version)\n",
    "print(\"Platform:\", platform.platform())\n",
    "print(\"CWD:\", os.getcwd())"
   ]
  },
  {
   "cell_type": "code",
   "execution_count": 3,
   "id": "54e3323b-b89a-4eb3-83ea-d278e54828ea",
   "metadata": {
    "execution": {
     "iopub.execute_input": "2025-09-21T11:58:03.289606Z",
     "iopub.status.busy": "2025-09-21T11:58:03.289466Z",
     "iopub.status.idle": "2025-09-21T11:58:03.959787Z",
     "shell.execute_reply": "2025-09-21T11:58:03.959523Z",
     "shell.execute_reply.started": "2025-09-21T11:58:03.289598Z"
    }
   },
   "outputs": [
    {
     "name": "stdout",
     "output_type": "stream",
     "text": [
      "Torch version: 2.8.0\n",
      "MPS built: True\n",
      "MPS available (usable): True\n",
      "Using device: mps\n"
     ]
    }
   ],
   "source": [
    "# Apple Metal (MPS) accelerator check\n",
    "try:\n",
    "    import torch\n",
    "    mps_ok = torch.backends.mps.is_available() and torch.backends.mps.is_built()\n",
    "    device = torch.device(\"mps\" if mps_ok else (\"cuda\" if torch.cuda.is_available() else \"cpu\"))\n",
    "    print(f\"Torch version: {torch.__version__}\")\n",
    "    print(\"MPS built:\", torch.backends.mps.is_built())\n",
    "    print(\"MPS available (usable):\", torch.backends.mps.is_available())\n",
    "    print(\"Using device:\", device)\n",
    "except Exception as e:\n",
    "    print(\"Torch not available, falling back to CPU-only:\", e)\n",
    "    device = \"cpu\""
   ]
  },
  {
   "cell_type": "code",
   "execution_count": null,
   "id": "a484ea66-a4f8-4a8f-89a4-2b9e941d7dfd",
   "metadata": {
    "execution": {
     "execution_failed": "2025-09-21T16:12:08.272Z",
     "iopub.execute_input": "2025-09-21T11:58:18.304708Z",
     "iopub.status.busy": "2025-09-21T11:58:18.304542Z"
    }
   },
   "outputs": [],
   "source": [
    "# Imports that may need pip install\n",
    "try:\n",
    "    import matplotlib.pyplot as plt\n",
    "    from transformers import AutoModelForSeq2SeqLM, AutoTokenizer\n",
    "    from sentence_transformers import SentenceTransformer, util\n",
    "    import textstat\n",
    "except Exception as e:\n",
    "    print(\"Missing libs. Install first:\", e)\n",
    "    print(\"Try: pip install pandas numpy matplotlib transformers sentence-transformers textstat\")\n",
    "    raise\n"
   ]
  },
  {
   "cell_type": "markdown",
   "id": "daf2bafb-e87b-4f9b-9663-8e7321499d31",
   "metadata": {},
   "source": [
    "## Config"
   ]
  },
  {
   "cell_type": "code",
   "execution_count": null,
   "id": "859a4465-61ab-4f71-b817-5f6d5b74fd20",
   "metadata": {},
   "outputs": [],
   "source": [
    "# ---------- Config ----------\n",
    "DATA_DIR = Path(\"../data/processed\")\n",
    "JPM_PATH = DATA_DIR / \"jpm\" / \"all_jpm_2023_2025.csv\"\n",
    "HSBC_PATH = DATA_DIR / \"hsbc\" / \"all_hsbc_2023_2025.csv\"\n",
    "\n",
    "# Try both possible filenames for the PRA categories\n",
    "PRA_PATHS = [\n",
    "    DATA_DIR / \"PRA Risk Categories.csv\",\n",
    "    DATA_DIR / \"PRA Risk Categories - Sheet1.csv\"\n",
    "]\n",
    "\n",
    "# Models (swap summarizer if you want higher quality and have time/VRAM)\n",
    "EMBED_MODEL_NAME = \"sentence-transformers/all-MiniLM-L6-v2\"\n",
    "SUMM_MODEL_NAME = \"sshleifer/distilbart-cnn-12-6\"  # or \"facebook/bart-large-cnn\"\n",
    "USE_NLI = False\n",
    "NLI_MODEL_NAME = \"typeform/distilroberta-base-uncased-mnli\"\n",
    "\n",
    "# Summaries\n",
    "SUMMARY_MAX_TOKENS = 200  # for distilbart cnn\n",
    "SUMMARY_TARGET_WORDS = 120\n",
    "\n",
    "# Evasion thresholds (tweak to taste)\n",
    "SIMILARITY_LOW = 0.38      # cosine sim below this suggests low alignment to question\n",
    "HEDGE_MIN_COUNT = 2        # minimum hedge/deflection cues to matter\n",
    "VERBOSITY_RATIO_HIGH = 6.0 # answer-to-question char ratio\n",
    "READABILITY_SIMPLE = 8.0   # Flesch-Kincaid grade; higher can indicate complexity\n",
    "EVASION_SCORE_FLAG = 0.65  # composite score threshold to flag"
   ]
  },
  {
   "cell_type": "markdown",
   "id": "e52ff6fa-06c7-45fc-85ed-fba1a1c89458",
   "metadata": {},
   "source": [
    "## Text preprocessing"
   ]
  },
  {
   "cell_type": "code",
   "execution_count": null,
   "id": "daf92b35-db77-41b6-84c4-759519718729",
   "metadata": {},
   "outputs": [],
   "source": [
    "def normalize_text(s: str) -> str:\n",
    "    return re.sub(r\"\\s+\", \" \", (s or \"\")).strip()\n",
    "\n",
    "HEDGE_PHRASES = [\n",
    "    \"i think\",\"we think\",\"i believe\",\"we believe\",\"we feel\",\"i feel\",\n",
    "    \"sort of\",\"kind of\",\"a bit\",\"a little\",\"roughly\",\"approximately\",\n",
    "    \"around\",\"more or less\",\"to some extent\",\"somewhat\",\n",
    "    \"we don't break out\",\"we do not break out\",\"we don't disclose\",\"we do not disclose\",\n",
    "    \"we won't comment\",\"we will not comment\",\"not going to comment\",\n",
    "    \"too early to say\",\"too soon to say\",\"too soon to tell\",\n",
    "    \"we'll have to see\",\"we will have to see\",\n",
    "    \"we'll come back\",\"we will come back\",\n",
    "    \"as we've said before\",\"as we said before\",\n",
    "    \"as previously mentioned\",\"as mentioned\",\n",
    "    \"let me step back\",\"take a step back\",\n",
    "    \"the way i would frame\",\"i would frame it\",\n",
    "    \"i'm not sure\",\"we're not sure\",\n",
    "    \"it's complicated\",\"it's complex\",\n",
    "    \"moving parts\",\n",
    "    \"as you know\",\"as you can appreciate\",\n",
    "    \"that's a great question\",\"good question\",\n",
    "    \"let me answer a different\",\"let me start somewhere else\",\n",
    "]\n",
    "\n",
    "def count_hedges(text: str) -> int:\n",
    "    t = \" \" + text.lower() + \" \"\n",
    "    return sum(1 for p in HEDGE_PHRASES if f\" {p} \" in t)\n",
    "\n",
    "def fk_grade(text: str) -> float:\n",
    "    try:\n",
    "        return textstat.flesch_kincaid_grade(text)\n",
    "    except Exception:\n",
    "        return np.nan"
   ]
  },
  {
   "cell_type": "code",
   "execution_count": null,
   "id": "499d1eb3-002e-4c4a-a379-cc9bf456bfd5",
   "metadata": {},
   "outputs": [],
   "source": []
  }
 ],
 "metadata": {
  "kernelspec": {
   "display_name": "Python 3 (ipykernel)",
   "language": "python",
   "name": "python3"
  },
  "language_info": {
   "codemirror_mode": {
    "name": "ipython",
    "version": 3
   },
   "file_extension": ".py",
   "mimetype": "text/x-python",
   "name": "python",
   "nbconvert_exporter": "python",
   "pygments_lexer": "ipython3",
   "version": "3.12.6"
  }
 },
 "nbformat": 4,
 "nbformat_minor": 5
}
