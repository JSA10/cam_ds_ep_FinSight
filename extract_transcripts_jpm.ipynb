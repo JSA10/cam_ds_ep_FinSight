{
 "cells": [
  {
   "cell_type": "code",
   "execution_count": 1,
   "id": "cfabdd40-8613-4696-abd8-8a41844cf6fa",
   "metadata": {
    "execution": {
     "iopub.execute_input": "2025-09-08T13:43:54.387980Z",
     "iopub.status.busy": "2025-09-08T13:43:54.387583Z",
     "iopub.status.idle": "2025-09-08T13:43:54.661563Z",
     "shell.execute_reply": "2025-09-08T13:43:54.661309Z",
     "shell.execute_reply.started": "2025-09-08T13:43:54.387929Z"
    }
   },
   "outputs": [],
   "source": [
    "import sys\n",
    "from pathlib import Path\n",
    "sys.path.append(\"scripts\")  # folder that contains jpm_earnings_qa_parser.py\n",
    "\n",
    "from jpm_earnings_qa_parser import batch_process"
   ]
  },
  {
   "cell_type": "code",
   "execution_count": 2,
   "id": "d08f1a61-581c-4c6e-a170-4be3a6374efc",
   "metadata": {
    "execution": {
     "iopub.execute_input": "2025-09-08T13:43:54.661940Z",
     "iopub.status.busy": "2025-09-08T13:43:54.661841Z",
     "iopub.status.idle": "2025-09-08T13:44:05.688939Z",
     "shell.execute_reply": "2025-09-08T13:44:05.688727Z",
     "shell.execute_reply.started": "2025-09-08T13:43:54.661933Z"
    }
   },
   "outputs": [
    {
     "name": "stdout",
     "output_type": "stream",
     "text": [
      "Parsing: data/raw/jpm/.ipynb_checkpoints/jpm-1q23-earnings-call-transcript-checkpoint.pdf\n",
      "Extraction method for jpm-1q23-earnings-call-transcript-checkpoint.pdf: pdfminer\n",
      "  -> 98 rows written to data/processed/jpm/jpm-1q23-earnings-call-transcript-checkpoint_qa.csv\n",
      "Parsing: data/raw/jpm/.ipynb_checkpoints/jpm-1q25-earnings-call-transcript-checkpoint.pdf\n",
      "Extraction method for jpm-1q25-earnings-call-transcript-checkpoint.pdf: pdfminer\n",
      "  -> 112 rows written to data/processed/jpm/jpm-1q25-earnings-call-transcript-checkpoint_qa.csv\n",
      "Parsing: data/raw/jpm/.ipynb_checkpoints/jpm-2q25-earnings-call-transcript-checkpoint.pdf\n",
      "Extraction method for jpm-2q25-earnings-call-transcript-checkpoint.pdf: pdfminer\n",
      "  -> 149 rows written to data/processed/jpm/jpm-2q25-earnings-call-transcript-checkpoint_qa.csv\n",
      "Parsing: data/raw/jpm/.ipynb_checkpoints/jpm-3q23-earnings-call-transcript-checkpoint.pdf\n",
      "Extraction method for jpm-3q23-earnings-call-transcript-checkpoint.pdf: pdfminer\n",
      "  -> 89 rows written to data/processed/jpm/jpm-3q23-earnings-call-transcript-checkpoint_qa.csv\n",
      "Parsing: data/raw/jpm/.ipynb_checkpoints/jpm-4q24-earnings-transcript-checkpoint.pdf\n",
      "Extraction method for jpm-4q24-earnings-transcript-checkpoint.pdf: pdfminer\n",
      "  -> 64 rows written to data/processed/jpm/jpm-4q24-earnings-transcript-checkpoint_qa.csv\n",
      "Parsing: data/raw/jpm/jpm-1q23-earnings-call-transcript.pdf\n",
      "Extraction method for jpm-1q23-earnings-call-transcript.pdf: pdfminer\n",
      "  -> 98 rows written to data/processed/jpm/jpm-1q23-earnings-call-transcript_qa.csv\n",
      "Parsing: data/raw/jpm/jpm-1q24-earnings-call-transcript.pdf\n",
      "Extraction method for jpm-1q24-earnings-call-transcript.pdf: pdfminer\n",
      "  -> 76 rows written to data/processed/jpm/jpm-1q24-earnings-call-transcript_qa.csv\n",
      "Parsing: data/raw/jpm/jpm-1q25-earnings-call-transcript.pdf\n",
      "Extraction method for jpm-1q25-earnings-call-transcript.pdf: pdfminer\n",
      "  -> 112 rows written to data/processed/jpm/jpm-1q25-earnings-call-transcript_qa.csv\n",
      "Parsing: data/raw/jpm/jpm-2q23-earnings-call-transcript.pdf\n",
      "Extraction method for jpm-2q23-earnings-call-transcript.pdf: pdfminer\n",
      "  -> 99 rows written to data/processed/jpm/jpm-2q23-earnings-call-transcript_qa.csv\n",
      "Parsing: data/raw/jpm/jpm-2q24-earnings-call-transcript.pdf\n",
      "Extraction method for jpm-2q24-earnings-call-transcript.pdf: pdfminer\n",
      "  -> 67 rows written to data/processed/jpm/jpm-2q24-earnings-call-transcript_qa.csv\n",
      "Parsing: data/raw/jpm/jpm-2q25-earnings-call-transcript.pdf\n",
      "Extraction method for jpm-2q25-earnings-call-transcript.pdf: pdfminer\n",
      "  -> 149 rows written to data/processed/jpm/jpm-2q25-earnings-call-transcript_qa.csv\n",
      "Parsing: data/raw/jpm/jpm-3q23-earnings-call-transcript.pdf\n",
      "Extraction method for jpm-3q23-earnings-call-transcript.pdf: pdfminer\n",
      "  -> 89 rows written to data/processed/jpm/jpm-3q23-earnings-call-transcript_qa.csv\n",
      "Parsing: data/raw/jpm/jpm-3q24-earnings-conference-call-transcript.pdf\n",
      "Extraction method for jpm-3q24-earnings-conference-call-transcript.pdf: pdfminer\n",
      "  -> 84 rows written to data/processed/jpm/jpm-3q24-earnings-conference-call-transcript_qa.csv\n",
      "Parsing: data/raw/jpm/jpm-4q23-earnings-call-transcript.pdf\n",
      "Extraction method for jpm-4q23-earnings-call-transcript.pdf: pdfminer\n",
      "  -> 61 rows written to data/processed/jpm/jpm-4q23-earnings-call-transcript_qa.csv\n",
      "Parsing: data/raw/jpm/jpm-4q24-earnings-transcript.pdf\n",
      "Extraction method for jpm-4q24-earnings-transcript.pdf: pdfminer\n",
      "  -> 64 rows written to data/processed/jpm/jpm-4q24-earnings-transcript_qa.csv\n",
      "Wrote combined CSV (1411 rows) -> data/processed/jpm/all_jpm_2023_2025.csv\n"
     ]
    },
    {
     "data": {
      "text/plain": [
       "PosixPath('data/processed/jpm/all_jpm_2023_2025.csv')"
      ]
     },
     "execution_count": 2,
     "metadata": {},
     "output_type": "execute_result"
    }
   ],
   "source": [
    "# Batch a folder (writes per-file CSVs and a combined CSV)\n",
    "batch_process(\n",
    "    input_path=Path(\"data/raw/jpm\"),\n",
    "    outdir=Path(\"data/processed/jpm\"),\n",
    "    recursive=True,\n",
    "    pattern=\"*.pdf\",\n",
    "    combined_out=Path(\"data/processed/jpm/all_jpm_2023_2025.csv\"),\n",
    "    prefer=\"pymupdf\",\n",
    "    ocr=True,\n",
    "    include_presentation=\"single_row\",\n",
    "    pleasantry_mode=\"label_and_resequence\",\n",
    ")"
   ]
  }
 ],
 "metadata": {
  "kernelspec": {
   "display_name": "Python 3 (ipykernel)",
   "language": "python",
   "name": "python3"
  },
  "language_info": {
   "codemirror_mode": {
    "name": "ipython",
    "version": 3
   },
   "file_extension": ".py",
   "mimetype": "text/x-python",
   "name": "python",
   "nbconvert_exporter": "python",
   "pygments_lexer": "ipython3",
   "version": "3.12.6"
  }
 },
 "nbformat": 4,
 "nbformat_minor": 5
}
