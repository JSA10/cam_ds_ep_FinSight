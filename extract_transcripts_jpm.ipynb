{
 "cells": [
  {
   "cell_type": "code",
   "execution_count": 4,
   "id": "cfabdd40-8613-4696-abd8-8a41844cf6fa",
   "metadata": {
    "execution": {
     "iopub.execute_input": "2025-09-01T16:37:18.564276Z",
     "iopub.status.busy": "2025-09-01T16:37:18.563625Z",
     "iopub.status.idle": "2025-09-01T16:37:18.569656Z",
     "shell.execute_reply": "2025-09-01T16:37:18.568884Z",
     "shell.execute_reply.started": "2025-09-01T16:37:18.564221Z"
    }
   },
   "outputs": [],
   "source": [
    "import sys\n",
    "from pathlib import Path\n",
    "sys.path.append(\"data\")  # folder that contains jpm_earnings_qa_parser.py\n",
    "\n",
    "from jpm_earnings_qa_parser import parse_pdf_to_df, batch_process"
   ]
  },
  {
   "cell_type": "code",
   "execution_count": 5,
   "id": "d08f1a61-581c-4c6e-a170-4be3a6374efc",
   "metadata": {
    "execution": {
     "iopub.execute_input": "2025-09-01T16:37:22.733862Z",
     "iopub.status.busy": "2025-09-01T16:37:22.732684Z",
     "iopub.status.idle": "2025-09-01T16:37:24.815083Z",
     "shell.execute_reply": "2025-09-01T16:37:24.814854Z",
     "shell.execute_reply.started": "2025-09-01T16:37:22.733800Z"
    }
   },
   "outputs": [
    {
     "name": "stdout",
     "output_type": "stream",
     "text": [
      "Parsing: data/raw/jpm/jpm-1q25-earnings-call-transcript.pdf\n",
      "  -> 111 rows written to data/processed/jpm/jpm-1q25-earnings-call-transcript_qa.csv\n",
      "Parsing: data/raw/jpm/jpm-2q25-earnings-call-transcript.pdf\n",
      "  -> 148 rows written to data/processed/jpm/jpm-2q25-earnings-call-transcript_qa.csv\n",
      "Wrote combined CSV (259 rows) -> data/processed/jpm/all_jpm_2025.csv\n"
     ]
    },
    {
     "data": {
      "text/plain": [
       "PosixPath('data/processed/jpm/all_jpm_2025.csv')"
      ]
     },
     "execution_count": 5,
     "metadata": {},
     "output_type": "execute_result"
    }
   ],
   "source": [
    "# Batch a folder (writes per-file CSVs and a combined CSV)\n",
    "batch_process(\n",
    "    input_path=Path(\"data/raw/jpm\"),\n",
    "    outdir=Path(\"data/processed/jpm\"),\n",
    "    recursive=True,\n",
    "    pattern=\"*.pdf\",\n",
    "    combined_out=Path(\"data/processed/jpm/all_jpm_2025.csv\"),\n",
    ")\n"
   ]
  }
 ],
 "metadata": {
  "kernelspec": {
   "display_name": "Python 3 (ipykernel)",
   "language": "python",
   "name": "python3"
  },
  "language_info": {
   "codemirror_mode": {
    "name": "ipython",
    "version": 3
   },
   "file_extension": ".py",
   "mimetype": "text/x-python",
   "name": "python",
   "nbconvert_exporter": "python",
   "pygments_lexer": "ipython3",
   "version": "3.12.6"
  }
 },
 "nbformat": 4,
 "nbformat_minor": 5
}
