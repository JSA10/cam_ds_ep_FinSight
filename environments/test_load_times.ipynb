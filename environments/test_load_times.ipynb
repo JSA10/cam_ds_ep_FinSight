{
 "cells": [
  {
   "cell_type": "code",
   "execution_count": 2,
   "id": "9a111e62-39c5-4c53-b63d-702dfa00b0f1",
   "metadata": {
    "execution": {
     "iopub.execute_input": "2025-09-21T08:38:48.974007Z",
     "iopub.status.busy": "2025-09-21T08:38:48.973382Z",
     "iopub.status.idle": "2025-09-21T08:38:51.224526Z",
     "shell.execute_reply": "2025-09-21T08:38:51.224244Z",
     "shell.execute_reply.started": "2025-09-21T08:38:48.973969Z"
    }
   },
   "outputs": [
    {
     "name": "stdout",
     "output_type": "stream",
     "text": [
      "numpy                       0.06s\n",
      "pandas                      0.24s\n",
      "matplotlib                  0.08s\n",
      "seaborn                     0.61s\n",
      "torch                       0.62s\n",
      "transformers                0.60s\n",
      "sklearn                     0.04s\n"
     ]
    }
   ],
   "source": [
    "import time, importlib, traceback\n",
    "\n",
    "mods = [\n",
    "    \"numpy\",\"pandas\",\"matplotlib\",\"seaborn\",\"torch\",\"transformers\",\n",
    "     \"sklearn\" #\"llama_cpp\", \"sentence_transformers\"\n",
    "]\n",
    "\n",
    "for name in mods:\n",
    "    t0 = time.time()\n",
    "    try:\n",
    "        importlib.import_module(name)\n",
    "        dur = time.time() - t0\n",
    "        print(f\"{name:24s}  {dur:6.2f}s\")\n",
    "    except Exception:\n",
    "        dur = time.time() - t0\n",
    "        print(f\"{name:24s}  FAILED after {dur:6.2f}s\")\n",
    "        traceback.print_exc(limit=1)"
   ]
  },
  {
   "cell_type": "code",
   "execution_count": null,
   "id": "dc23a760-5505-49a5-91c1-5ad0c9d2c029",
   "metadata": {},
   "outputs": [],
   "source": []
  }
 ],
 "metadata": {
  "kernelspec": {
   "display_name": "Python 3 (ipykernel)",
   "language": "python",
   "name": "python3"
  },
  "language_info": {
   "codemirror_mode": {
    "name": "ipython",
    "version": 3
   },
   "file_extension": ".py",
   "mimetype": "text/x-python",
   "name": "python",
   "nbconvert_exporter": "python",
   "pygments_lexer": "ipython3",
   "version": "3.12.6"
  }
 },
 "nbformat": 4,
 "nbformat_minor": 5
}
