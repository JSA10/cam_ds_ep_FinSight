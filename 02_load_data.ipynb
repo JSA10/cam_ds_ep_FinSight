{
  "nbformat": 4,
  "nbformat_minor": 0,
  "metadata": {
    "colab": {
      "provenance": []
    },
    "kernelspec": {
      "name": "python3",
      "display_name": "Python 3"
    },
    "language_info": {
      "name": "python"
    }
  },
  "cells": [
    {
      "cell_type": "code",
      "execution_count": 3,
      "metadata": {
        "colab": {
          "base_uri": "https://localhost:8080/"
        },
        "id": "MXafdfEBkLAD",
        "outputId": "d686a032-82a3-404a-da9e-be94d7ed2d3c"
      },
      "outputs": [
        {
          "output_type": "stream",
          "name": "stdout",
          "text": [
            "Mounted at /content/drive\n",
            "Loading data for bank: JPM\n"
          ]
        }
      ],
      "source": [
        "# 02_load_data.ipynb\n",
        "# Purpose: Load JPM Q1 and Q2 2025 earnings call transcript data\n",
        "# Input: Google Drive CSV files\n",
        "# Output: raw_jpm_q1_2025_df, raw_jpm_q2_2025_df, raw_jpm_multi_2025_df\n",
        "\n",
        "## Import Libraries\n",
        "\n",
        "import pandas as pd\n",
        "import numpy as np\n",
        "import json\n",
        "from pathlib import Path\n",
        "import requests\n",
        "import io\n",
        "from google.colab import drive\n",
        "\n",
        "# Location A: Google Drive (Primary drive)\n",
        "from google.colab import drive\n",
        "drive.mount(\"/content/drive\")\n",
        "\n",
        "\n",
        "# Load configuration\n",
        "config_path = Path(\"/content/drive/MyDrive/CAM_DS_AI_Project/config.json\")\n",
        "with open(config_path, \"r\") as f:\n",
        "    config = json.load(f)\n",
        "\n",
        "SEED = config[\"SEED\"]\n",
        "BANK_CODE = config[\"BANK_CODE\"]\n",
        "drive_base = Path(config[\"drive_base\"])\n",
        "colab_base = Path(config[\"colab_base\"])\n",
        "\n",
        "print(f\"Loading data for bank: {BANK_CODE.upper()}\")\n"
      ]
    },
    {
      "cell_type": "code",
      "source": [
        "## Define Paths\n",
        "\n",
        "raw_data_path = drive_base / \"data/raw/jpm\"\n",
        "colab_data_path = colab_base / \"data/raw/jpm\"\n",
        "\n",
        "# Ensure directories exist\n",
        "raw_data_path.mkdir(parents=True, exist_ok=True)\n",
        "colab_data_path.mkdir(parents=True, exist_ok=True)"
      ],
      "metadata": {
        "id": "qc5MlkkBkVwB"
      },
      "execution_count": 4,
      "outputs": []
    },
    {
      "cell_type": "code",
      "source": [
        "## Helper Functions\n",
        "\n",
        "def extract_file_id_from_drive_url(url):\n",
        "    \"\"\"Extract file ID from Google Drive sharing URL.\"\"\"\n",
        "    if \"drive.google.com\" in url and \"/file/d/\" in url:\n",
        "        return url.split(\"/file/d/\")[1].split(\"/\")[0]\n",
        "    return None\n",
        "\n",
        "def download_from_drive(file_id, filename):\n",
        "    \"\"\"Download file from Google Drive using file ID.\"\"\"\n",
        "    download_url = f\"https://drive.google.com/uc?export=download&id={file_id}\"\n",
        "\n",
        "    try:\n",
        "        response = requests.get(download_url)\n",
        "        response.raise_for_status()\n",
        "\n",
        "        # Save to both locations\n",
        "        drive_file_path = raw_data_path / filename\n",
        "        colab_file_path = colab_data_path / filename\n",
        "\n",
        "        # Save to drive location\n",
        "        with open(drive_file_path, 'wb') as f:\n",
        "            f.write(response.content)\n",
        "\n",
        "        # Save to colab location\n",
        "        with open(colab_file_path, 'wb') as f:\n",
        "            f.write(response.content)\n",
        "\n",
        "        print(f\"✓ Downloaded {filename}\")\n",
        "        print(f\"  Drive: {drive_file_path}\")\n",
        "        print(f\"  Colab: {colab_file_path}\")\n",
        "\n",
        "        return drive_file_path, colab_file_path\n",
        "\n",
        "    except Exception as e:\n",
        "        print(f\"❌ Error downloading {filename}: {str(e)}\")\n",
        "        return None, None\n",
        "\n",
        "def read_csv_safe(path: Path, encoding='utf-8') -> pd.DataFrame:\n",
        "    \"\"\"Safely read CSV with multiple encoding attempts.\"\"\"\n",
        "    encodings_to_try = [encoding, 'latin-1', 'cp1252', 'iso-8859-1']\n",
        "\n",
        "    for enc in encodings_to_try:\n",
        "        try:\n",
        "            df = pd.read_csv(path, encoding=enc)\n",
        "            print(f\"✓ Loaded {path.name}: {len(df):,} rows × {len(df.columns)} cols (encoding: {enc})\")\n",
        "            return df\n",
        "        except UnicodeDecodeError:\n",
        "            continue\n",
        "        except Exception as e:\n",
        "            print(f\"❌ Error reading {path.name}: {str(e)}\")\n",
        "            break\n",
        "\n",
        "    return None"
      ],
      "metadata": {
        "id": "a63JJpWxkgKg"
      },
      "execution_count": 5,
      "outputs": []
    },
    {
      "cell_type": "code",
      "source": [
        "## Download Data Files\n",
        "\n",
        "data_urls = config[\"data_urls\"]\n",
        "\n",
        "# Download Q1 2025 data\n",
        "print(\"Downloading Q1 2025 data...\")\n",
        "q1_file_id = extract_file_id_from_drive_url(data_urls[\"q1_2025\"])\n",
        "q1_filename = \"jpm-1q25-earnings-call-transcript_qa.csv\"\n",
        "\n",
        "if q1_file_id:\n",
        "    q1_drive_path, q1_colab_path = download_from_drive(q1_file_id, q1_filename)\n",
        "else:\n",
        "    print(\"❌ Could not extract file ID from Q1 URL\")\n",
        "\n",
        "# Download Q2 2025 data\n",
        "print(\"\\nDownloading Q2 2025 data...\")\n",
        "q2_file_id = extract_file_id_from_drive_url(data_urls[\"q2_2025\"])\n",
        "q2_filename = \"jpm-2q25-earnings-call-transcript_qa.csv\"\n",
        "\n",
        "if q2_file_id:\n",
        "    q2_drive_path, q2_colab_path = download_from_drive(q2_file_id, q2_filename)\n",
        "else:\n",
        "    print(\"❌ Could not extract file ID from Q2 URL\")\n"
      ],
      "metadata": {
        "colab": {
          "base_uri": "https://localhost:8080/"
        },
        "id": "aVLAL9WXkj5Y",
        "outputId": "60601dd6-aba0-4d6b-db00-c27fd3a2c5f5"
      },
      "execution_count": 6,
      "outputs": [
        {
          "output_type": "stream",
          "name": "stdout",
          "text": [
            "Downloading Q1 2025 data...\n",
            "✓ Downloaded jpm-1q25-earnings-call-transcript_qa.csv\n",
            "  Drive: /content/drive/MyDrive/CAM_DS_AI_Project/data/raw/jpm/jpm-1q25-earnings-call-transcript_qa.csv\n",
            "  Colab: /content/cam_ds_ai_project/data/raw/jpm/jpm-1q25-earnings-call-transcript_qa.csv\n",
            "\n",
            "Downloading Q2 2025 data...\n",
            "✓ Downloaded jpm-2q25-earnings-call-transcript_qa.csv\n",
            "  Drive: /content/drive/MyDrive/CAM_DS_AI_Project/data/raw/jpm/jpm-2q25-earnings-call-transcript_qa.csv\n",
            "  Colab: /content/cam_ds_ai_project/data/raw/jpm/jpm-2q25-earnings-call-transcript_qa.csv\n"
          ]
        }
      ]
    },
    {
      "cell_type": "code",
      "source": [
        "## Load Datasets\n",
        "\n",
        "print(\"\\n\" + \"=\"*50)\n",
        "print(\"LOADING DATASETS\")\n",
        "print(\"=\"*50)\n",
        "\n",
        "# Load Q1 2025 data\n",
        "if q1_drive_path and q1_drive_path.exists():\n",
        "    raw_jpm_q1_2025_df = read_csv_safe(q1_drive_path)\n",
        "else:\n",
        "    print(\"❌ Q1 2025 file not found\")\n",
        "    raw_jpm_q1_2025_df = None\n",
        "\n",
        "# Load Q2 2025 data\n",
        "if q2_drive_path and q2_drive_path.exists():\n",
        "    raw_jpm_q2_2025_df = read_csv_safe(q2_drive_path)\n",
        "else:\n",
        "    print(\"❌ Q2 2025 file not found\")\n",
        "    raw_jpm_q2_2025_df = None\n"
      ],
      "metadata": {
        "colab": {
          "base_uri": "https://localhost:8080/"
        },
        "id": "n4LwnMmMAdX4",
        "outputId": "6a3bf33d-d5ff-4669-e104-d297509aebed"
      },
      "execution_count": 7,
      "outputs": [
        {
          "output_type": "stream",
          "name": "stdout",
          "text": [
            "\n",
            "==================================================\n",
            "LOADING DATASETS\n",
            "==================================================\n",
            "✓ Loaded jpm-1q25-earnings-call-transcript_qa.csv: 112 rows × 10 cols (encoding: utf-8)\n",
            "✓ Loaded jpm-2q25-earnings-call-transcript_qa.csv: 149 rows × 10 cols (encoding: utf-8)\n"
          ]
        }
      ]
    },
    {
      "cell_type": "code",
      "source": [
        "## Initial Data Exploration\n",
        "\n",
        "def explore_dataset(df, quarter_name):\n",
        "    \"\"\"Explore dataset structure and content.\"\"\"\n",
        "    if df is None:\n",
        "        print(f\"❌ {quarter_name} dataset is None\")\n",
        "        return\n",
        "\n",
        "    print(f\"\\n📊 {quarter_name} DATASET EXPLORATION\")\n",
        "    print(\"-\" * 40)\n",
        "\n",
        "    # Basic info\n",
        "    print(f\"Shape: {df.shape}\")\n",
        "    print(f\"Columns: {list(df.columns)}\")\n",
        "\n",
        "    # Data types\n",
        "    print(f\"\\nData types:\")\n",
        "    for col, dtype in df.dtypes.items():\n",
        "        print(f\"  {col}: {dtype}\")\n",
        "\n",
        "    # Missing values\n",
        "    missing = df.isnull().sum()\n",
        "    if missing.any():\n",
        "        print(f\"\\nMissing values:\")\n",
        "        for col, count in missing[missing > 0].items():\n",
        "            pct = (count / len(df)) * 100\n",
        "            print(f\"  {col}: {count} ({pct:.1f}%)\")\n",
        "    else:\n",
        "        print(\"\\n✓ No missing values\")\n",
        "\n",
        "    # Memory usage\n",
        "    memory_mb = df.memory_usage(deep=True).sum() / 1024**2\n",
        "    print(f\"\\nMemory usage: {memory_mb:.2f} MB\")\n",
        "\n",
        "    # Sample data\n",
        "    print(f\"\\nFirst 3 rows:\")\n",
        "    print(df.head(3).to_string())\n",
        "\n",
        "    # Unique value counts for key columns\n",
        "    if 'speaker' in df.columns:\n",
        "        print(f\"\\nSpeaker distribution:\")\n",
        "        speaker_counts = df['speaker'].value_counts()\n",
        "        for speaker, count in speaker_counts.items():\n",
        "            print(f\"  {speaker}: {count}\")\n",
        "\n",
        "    if 'text' in df.columns:\n",
        "        text_lengths = df['text'].str.len()\n",
        "        print(f\"\\nText length stats:\")\n",
        "        print(f\"  Mean: {text_lengths.mean():.0f} chars\")\n",
        "        print(f\"  Median: {text_lengths.median():.0f} chars\")\n",
        "        print(f\"  Min: {text_lengths.min()} chars\")\n",
        "        print(f\"  Max: {text_lengths.max()} chars\")\n",
        "\n",
        "# Explore both datasets\n",
        "explore_dataset(raw_jpm_q1_2025_df, \"Q1 2025\")\n",
        "explore_dataset(raw_jpm_q2_2025_df, \"Q2 2025\")\n"
      ],
      "metadata": {
        "colab": {
          "base_uri": "https://localhost:8080/"
        },
        "id": "iqoY4jbsAhBV",
        "outputId": "5edc267f-5e16-4875-fa88-6febb11e07f4"
      },
      "execution_count": 8,
      "outputs": [
        {
          "output_type": "stream",
          "name": "stdout",
          "text": [
            "\n",
            "📊 Q1 2025 DATASET EXPLORATION\n",
            "----------------------------------------\n",
            "Shape: (112, 10)\n",
            "Columns: ['section', 'question_number', 'answer_number', 'speaker_name', 'role', 'company', 'content', 'year', 'quarter', 'is_pleasantry']\n",
            "\n",
            "Data types:\n",
            "  section: object\n",
            "  question_number: float64\n",
            "  answer_number: float64\n",
            "  speaker_name: object\n",
            "  role: object\n",
            "  company: object\n",
            "  content: object\n",
            "  year: int64\n",
            "  quarter: object\n",
            "  is_pleasantry: bool\n",
            "\n",
            "Missing values:\n",
            "  question_number: 1 (0.9%)\n",
            "  answer_number: 23 (20.5%)\n",
            "\n",
            "Memory usage: 0.13 MB\n",
            "\n",
            "First 3 rows:\n",
            "        section  question_number  answer_number   speaker_name                     role              company                                                                                                                                                                                                                                                                                                                                                                                                                                                                                                                                                                                                                                                                                                                                                                                                                                                                                                                                                                                                                                                                                                                                                                                                                                                                                                                                                                                                                                                                                                                                                                                                                                                                                                                                                                                                                                                                                                                                                                                                                                                                                                                                                                                                                                                                                                                                                                                                                                                                                                                                                                                                                                                                                                                                                                                                                                                                                                                                                                                                                                                                                                                                                                                                                                                                                                                                                                                                                                                                                                                                                                                                                                                                                                                                                                                                                                                                                                                                                                                                                                                                                                                                                                                                                                                                                                                                                                                                                                                                                                                                                                                                                                                                                                                                                                                                                                                                                                                                                                                                                                                                                                                                                                                                                                                                                                                                                                                                                                                                                                                                                                                                                                                                                                                                                                                                                                                                                                                                                                                                                                                                                                                                                                                                                                                                                                                                                                                                                                                                                                                                                                                                                                                                                                                                                                                                                                                                                                                                                                                                                                                                                                                                                                                                                                                                                                                                                                                                                                                                                                                                                                                                                                                                                                                                                                                                                                                                                                                                                                                                                                                                                                                                                                                                                                                                                                                                                                                                                                                                                                                                                                                                                                                                                                                                                                                                                                                                                                                                                                                                                                                                                                                                                                                                                                                                                                                                                                                                                                                                                                                                                                                                                                                                                                                                                                                                                                                                                                                                                                                                                                                                                                                                                                                                                                                                                                                                                                                                                      content  year quarter  is_pleasantry\n",
            "0  presentation              NaN            NaN  Jeremy Barnum  Chief Financial Officer        JPMorganChase  Thank you and good morning, everyone. Starting on page 1, the Firm reported net income of $14.6 billion, EPS of $5.07 on revenue of $46 billion, with an ROTCE of 21%. These results included a First Republic-related gain of $588 million, which was previously disclosed in the 10-K. On page 2, we have more on our first-quarter results. The Firm reported revenue of $46 billion, up $3.5 billion, or 8% year-on-year. NII ex. Markets was down $430 million, or 2%, driven by the impact of lower rates and deposit margin compression, as well as lower deposit balances in CCB. This was predominantly offset by higher Card revolving balances, the impact of securities activity, including from prior quarters, as well as higher wholesale deposits. NIR ex. Markets was up $2.2 billion, or 20%, and excluding the significant item I just mentioned, was up 14%, largely on higher asset management fees, lower net investment securities losses and higher investment banking fees. And Markets revenue was up $1.7 billion, or 21%. Expenses of $23.6 billion were up $840 million, or 4%, largely driven by compensation, including growth in employees across the front office and technology, higher brokerage and distribution fees, as well as marketing and legal expense. The quarter also reflected a $323 million release of the FDIC special assessment accrual compared with a $725 million increase in the prior quarter. Credit costs were $3.3 billion, with net charge-offs of $2.3 billion and a net reserve build of $973 million. We have more details on the reserve build on page 3. With this quarter's reserve build, the Firm’s total allowance for credit losses is $27.6 billion. Let's take a second to add a little bit of context to our thinking surrounding this number in light of the unique environment of the last several weeks. Our first quarter allowance is anchored on the relatively benign central case economic outlook, which was in effect at the end of the quarter. But, in light of the significantly elevated risks and uncertainties at the time, we increased the probability weightings associated with the downside scenarios in our CECL framework. As a result, the weighted-average unemployment rate embedded in our allowance is 5.8%, up from 5.5% last quarter, driving the $973 million increase in the allowance. So with that in mind, the consumer build of $441 million was driven by changes in the weighted-average macroeconomic outlook. The wholesale build of $549 million was predominantly driven by credit quality changes on certain exposures and net lending activity, as well as changes in the outlook. In addition, it's important to note that the increase in the allowance is not, to any meaningful degree, driven by deterioration in the actual credit performance in the portfolio, which remains largely in line with expectations. With that, let's go to the balance sheet and capital on page 4. We ended the quarter with a CET1 ratio of 15.4%, down 30 basis points versus the prior quarter as net income and OCI gains were more than offset by capital distributions and higher RWA. This quarter, the Firm distributed $11 billion of capital to shareholders, which reflects $7.1 billion of net common share repurchases and the payment of our common dividend, which has been increased to $1.40 per share. This quarter's higher RWA is primarily driven by overall business growth in Markets and some seasonal effects. Now let's go to our businesses, starting with CCB on page 5. Consumers and small businesses remain financially healthy. Despite the recent downtrends in consumer and small business sentiment, based on our data, spend, cash buffers, payment to income ratios, and credit utilization are all in line with our expectations. Moving to the financial results, CCB reported net income of $4.4 billion on revenue of $18.3 billion, which was up 4% year-on-year. In Banking & Wealth Management, revenue was down 1% year-on-year, driven by lower deposit NII, predominantly offset by growth in Wealth Management revenue. Average deposits were down 2% year-on-year and flat sequentially, while end of period deposits were up 2% quarter-on-quarter. Client investment assets were up 7% year-on-year, predominantly driven by market performance, and we continue to see strong flows into managed products. In Home Lending, revenue was up 2% year-on-year and originations were up 42% year-on-year, off a small base in a slowly growing market. Turning to Card Services & Auto, revenue was up 12% year-on-year, predominantly driven by Card NII on higher revolving balances as well as higher operating lease income in Auto. Card outstandings were up 10%, due to strong account acquisition. And in Auto, originations were $10.7 billion, up 20%, driven by higher lease volume. Expenses of $9.9 billion were up 6% year-on-year, predominantly driven by growth in marketing and technology, higher field compensation, as well as higher auto lease depreciation. Credit costs were $2.6 billion, reflecting net charge-offs of $2.2 billion, up $275 million year-on-year, predominantly driven by the seasoning of recent vintages in Card with delinquencies and losses in line with expectations. The net reserve build was $475 million, of which $400 million was in Card. Next, the Commercial & Investment Bank on page 6. CIB reported net income of $6.9 billion on revenue of $19.7 billion, which was up 12% year- on-year. IB fees were up 12% year-on-year, and we ranked number one with wallet share of 9%. In Advisory, fees were up 16%, benefiting from the closing of deals announced in 2024. Net underwriting fees were up 16%, primarily driven by elevated refinancing activity, particularly in Leveraged Finance. In Equity underwriting, fees were down 9% year-on-year, reflecting challenging market conditions. In light of market conditions, we are adopting a cautious stance on the Investment Banking outlook. While client engagement and dialog is quite elevated, both the conversion of the existing pipeline and origination of new activity will require a reduction in the current levels of uncertainty. Payments revenue was up 3% year-on-year excluding equity investments, driven by higher deposit balances and fee growth, predominantly offset by deposit margin compression. Lending revenue was up 11% year-on-year, driven by lower losses on hedges, partially offset by lower balances. Moving to Markets, total revenue was up 21% year-on-year, reflecting record performance in Equities. Fixed Income was up 8% with better performance in Rates and Commodities against a relatively weak prior-year quarter. Equities was up 48% as the business performed well during a period of elevated volatility, supported by higher client activity and strong monetization of flows, particularly in Derivatives. Securities Services revenue was up 7% year-on-year, driven by fee growth and higher deposit balances, partially offset by deposit margin compression. Expenses of $9.8 billion were up 13% year-on-year, predominantly driven by higher compensation, legal and brokerage expense. Average Banking & Payments loans were down 3% year-on-year and down 1% sequentially as we continued to observe payoff activity and limited demand for new loans across client segments. Average client deposits were up 11% year-on-year and up 2% sequentially, reflecting increased activity across Payments and Securities Services. Finally, credit costs were $705 million, largely driven by the net reserve build. Then to complete our lines of business, Asset & Wealth Management on page 7. AWM reported net income of $1.6 billion with pre-tax margin of 35%. Revenue of $5.7 billion was up 12% year-on-year, predominantly driven by growth in management fees on strong net inflows and higher average market levels, as well as higher brokerage activity and higher deposit balances. Expenses of $3.7 billion were up 7% year-on-year, largely driven by higher compensation, including revenue-related compensation and continued growth in our private banking advisor teams, as well as higher distribution fees. Long-term net inflows were $54 billion for the quarter, primarily driven by Equity and Fixed Income. In liquidity, we saw net inflows of $36 billion. AUM of $4.1 trillion and client assets of $6 trillion were both up 15% year-on-year, driven by continued net inflows and higher market levels. And finally, loans were up 5% year-on-year and flat quarter-on-quarter, and deposits were up 7% year-on-year and down 2% sequentially. Turning to Corporate on page 8. Corporate reported net income of $1.7 billion. Revenue of $2.3 billion was up $102 million year-on-year. NII of $1.7 billion was down $826 million year-on-year. NIR was a net gain of $653 million compared with a net loss of $275 million in the prior year. The current quarter included the significant item I mentioned upfront, while the prior-year quarter included net securities losses of $336 (sic) [$366] million. Expenses of $185 million were down $1.1 billion year-on-year, driven by the changes to the FDIC special assessment accruals I mentioned upfront. To finish up, let's turn to the full year outlook on page 9. We continue to expect NII ex. Markets to be approximately $90 billion. The Firmwide NII outlook has increased to about $94.5 billion, reflecting an increase in Markets NII, which you should think of as being primarily offset in NIR. Our adjusted expense outlook continues to be about $95 billion. And on credit, we expect the Card net charge-off rate to be in line with our previous guidance of approximately 3.6%. So to wrap up, we're pleased with another quarter of strong operating performance – but of course, the focus right now is on the future, which is obviously unusually uncertain. But no matter what outcomes eventually materialize, we are eager to do our part to continue to support our clients, the markets and the broader economy, and we believe the banking system will be a source of strength in this dynamic environment. And with that, let's open the line for Q&A.  2025      Q1          False\n",
            "1            qa              1.0            NaN      Ken Usdin                  analyst  Autonomous Research                                                                                                                                                                                                                                                                                                                                                                                                                                                                                                                                                                                                                                                                                                                                                                                                                                                                                                                                                                                                                                                                                                                                                                                                                                                                                                                                                                                                                                                                                                                                                                                                                                                                                                                                                                                                                                                                                                                                                                                                                                                                                                                                                                                                                                                                                                                                                                                                                                                                                                                                                                                                                                                                                                                                                                                                                                                                                                                                                                                                                                                                                                                                                                                                                                                                                                                                                                                                                                                                                                                                                                                                                                                                                                                                                                                                                                                                                                                                                                                                                                                                                                                                                                                                                                                                                                                                                                                                                                                                                                                                                                                                                                                                                                                                                                                                                                                                                                                                                                                                                                                                                                                                                                                                                                                                                                                                                                                                                                                                                                                                                                                                                                                                                                                                                                                                                                                                                                                                                                                                                                                                                                                                                                                                                                                                                                                                                                                                                                                                                                                                                                                                                                                                                                                                                                                                                                                                                                                                                                                                                                                                                                                                                                                                                                                                                                                                                                                                                                                                                                                                                                                                                                                                                                                                                                                                                                                                                                                                                                                                                                                                                                                                                                                                                                                                                                                                                                                                                                                                                                                                                                                                                                                                                                                                                                                                                                                                                                                                                                                                                                                                                                                                                                                                                                                                                                                                                                                                                                                                                                                                                                                                                                                                                                                                                                                                                                                                                                                                                                                    Good morning, Jeremy. Wondering if you could start by just kind of amplifying just the macro commentary that you started off on. And given the uncertainty in the world that you referenced, just how are you seeing the activity change across the customer base from consumers to wholesale? And can you just talk through how that's also just informing any changes in your – some of your growth and reserving expectations? Thanks.  2025      Q1          False\n",
            "2            qa              1.0            1.0  Jeremy Barnum  Chief Financial Officer        JPMorganChase                                                                                                                                                                                                                                                                                                                                                                                                                                                                                                                                                                                                                                                                                                                                                                                                                                                                                                                                                                                                                                                                                                                                                                                                                                                                                                                                                                                                                                                                                                                                                                                                                                                                                                                                                                                                                                                                                                                                                                                                                                                                                                                                                                                                                                                                                                                                                                                                                                                                                                                                                                                                                                                                                                                                                                                                                                                                                                                                                                                                                                                                                                                                                                                                                                                                                                                                                                                                                                                                                                                                                                                                                                                                                                                                                                                                                                                                                                                                                                                                                                                                                                                                                                                                                                                                                                                                                                                                                                                                                                                                                                                                                                                                                                                                                                                                                                                                                                                                                                                                                                                                                                                                                                                                                                                                                                                                                                                                                                                                                                                                                                                                                                                                                                                                                                                                                                                                                                                                                                                                                                                                                                                                                                                                                                                                                                                                                                                                                                                                                                                                                                                                                                                                                                                                                                                                                                                                                                                                                                                                                                                                                                                                                                                                                                                                                                                                                                                                                                                                                                                                                                                                                                                                                                                                                                                                                                                                                                                                                                                                                                                                                                                                                                                                                                                                                                                                                                                                                                                                                   Sure, Ken. So I mean, at a high level, I would say that obviously, some of the salient news flow is quite recent. So, we've done some soundings and some checking both on the consumer side and on the wholesale side. I think on the consumer side, the thing to check is the spending data. And to be honest, the main thing that we see there, what would appear to be a certain amount of frontloading of spending ahead of people expecting price increases from tariffs. So ironically, that's actually somewhat supportive, all else equal. But I think what it sort of highlights is that during this transitional period and this elevated uncertainty, you might see some distortions in the data that make it hard to draw larger conclusions. In terms of our corporate clients, obviously, they've been reacting to the changes in tariff policy. And at the margin, that shifts their focus away from more strategic priorities with obvious implications for the Investment Banking pipeline outlook towards more short-term work, optimizing supply chains and trying to figure out how they're going to respond to the current environment. So as a result, I think we would characterize what we're hearing from our corporate clients as a little bit of a wait-and-see attitude. I do think you see obvious differences across sectors. Some sectors are going to be much more exposed than others and have more complicated problems to solve. And also across the size of the clients, I think smaller clients, small business and smaller corporates are probably a little bit more challenged. I think the larger corporates have a bit more experience dealing with these things and more resources to manage. So that's a little bit our read of the situation right now. But certainly, a bit of a wait-and-see attitude. It's hard to make long-term decisions right now, and so we'll see how that plays out.  2025      Q1          False\n",
            "\n",
            "📊 Q2 2025 DATASET EXPLORATION\n",
            "----------------------------------------\n",
            "Shape: (149, 10)\n",
            "Columns: ['section', 'question_number', 'answer_number', 'speaker_name', 'role', 'company', 'content', 'year', 'quarter', 'is_pleasantry']\n",
            "\n",
            "Data types:\n",
            "  section: object\n",
            "  question_number: float64\n",
            "  answer_number: float64\n",
            "  speaker_name: object\n",
            "  role: object\n",
            "  company: object\n",
            "  content: object\n",
            "  year: int64\n",
            "  quarter: object\n",
            "  is_pleasantry: bool\n",
            "\n",
            "Missing values:\n",
            "  question_number: 5 (3.4%)\n",
            "  answer_number: 39 (26.2%)\n",
            "\n",
            "Memory usage: 0.13 MB\n",
            "\n",
            "First 3 rows:\n",
            "        section  question_number  answer_number          speaker_name                     role                        company                                                                                                                                                                                                                                                                                                                                                                                                                                                                                                                                                                                                                                                                                                                                                                                                                                                                                                                                                                                                                                                                                                                                                                                                                                                                                                                                                                                                                                                                                                                                                                                                                                                                                                                                                                                                                                                                                                                                                                                                                                                                                                                                                                                                                                                                                                                                                                                                                                                                                                                                                                                     content  year quarter  is_pleasantry\n",
            "0  presentation              NaN            NaN         Jeremy Barnum  Chief Financial Officer                  JPMorganChase  names, partially offset by the scenario probability adjustment I mentioned upfront. Turning to Asset & Wealth Management to complete our lines of business. AWM reported net income of $1.5 billion with pre-tax margin of 34%. Revenue of $5.8 billion was up 10% year-on-year, driven by growth in management fees on strong net inflows and higher average market levels, as well as higher brokerage activity and higher deposit balances. Expenses of $3.7 billion, were up 5% year-on-year, driven by higher compensation, including revenue-related compensation, and continued growth in our private banking advisor teams, as well as higher distribution fees. Long-term net inflows were $31 billion for the quarter, led by Fixed Income and Equities. In liquidity, we saw net inflows of $5 billion. AUM of $4.3 trillion was up 18% year-on-year, and client assets of $6.4 trillion were up 19% year-on-year, driven by continued net inflows and higher market levels. And finally, loans were up 7% year-on-year and 3% quarter-on-quarter, and deposits were up 9% year-on-year and 2% sequentially. Turning to Corporate. Corporate reported net income of $1.7 billion and includes the tax item I mentioned upfront. Revenue was $1.5 billion for the quarter. NII was $1.5 billion, down $875 million year-on-year. NIR was a net gain of $49 million, up $148 million year-on-year, excluding the prior year's Visa-related gain. Expenses, $547 million, were down $32 million year-on-year, excluding the Foundation contribution from the prior year that I mentioned earlier. To finish up, I'll touch on the outlook. You'll recall that at Investor Day, I made a couple of comments previewing the potential evolution of the outlook. So now, let me formalize that and give you updated guidance. First, we now expect NII ex. Markets to be approximately $92 billion, with the increase driven by changes in the forward curve and strong deposit growth in Payments, Securities Services as well as balanced growth in Card. Total NII guidance is now about $95.5 billion, implying $3.5 billion of Markets NII. Second, on adjusted expense, we now expect it to be about $95.5 billion, primarily driven by the impact of the weaker dollar, which is largely bottom line neutral. And finally, on credit, we continue to expect the Card net charge-off rate to be approximately 3.6%. So reflecting on the quarter, while the environment remains extremely dynamic, in many ways navigating uncertainty is the norm for both us and our clients.  2025      Q2          False\n",
            "1            qa              NaN            NaN  Christopher McGratty                  analyst  Keefe, Bruyette & Woods, Inc.                                                                                                                                                                                                                                                                                                                                                                                                                                                                                                                                                                                                                                                                                                                                                                                                                                                                                                                                                                                                                                                                                                                                                                                                                                                                                                                                                                                                                                                                                                                                                                                                                                                                                                                                                                                                                                                                                                                                                                                                                                                                                                                                                                                                                                                                                                                                                                                                                                                                             Great. Good morning. Thanks for the question. Jamie, relative to three months ago, there's a lot of optimism...  2025      Q2          False\n",
            "2            qa              NaN            NaN         Jeremy Barnum  Chief Financial Officer                  JPMorganChase                                                                                                                                                                                                                                                                                                                                                                                                                                                                                                                                                                                                                                                                                                                                                                                                                                                                                                                                                                                                                                                                                                                                                                                                                                                                                                                                                                                                                                                                                                                                                                                                                                                                                                                                                                                                                                                                                                                                                                                                                                                                                                                                                                                                                                                                                                                                                                                                                                                                                                                                                                  Welcome to the call. Yeah.  2025      Q2           True\n"
          ]
        }
      ]
    },
    {
      "cell_type": "code",
      "source": [
        "## Create Combined Dataset\n",
        "\n",
        "if raw_jpm_q1_2025_df is not None and raw_jpm_q2_2025_df is not None:\n",
        "    print(\"\\n\" + \"=\"*50)\n",
        "    print(\"CREATING COMBINED DATASET\")\n",
        "    print(\"=\"*50)\n",
        "\n",
        "    # Add quarter identifier\n",
        "    q1_df_with_quarter = raw_jpm_q1_2025_df.copy()\n",
        "    q1_df_with_quarter['quarter'] = 'q1_2025'\n",
        "\n",
        "    q2_df_with_quarter = raw_jpm_q2_2025_df.copy()\n",
        "    q2_df_with_quarter['quarter'] = 'q2_2025'\n",
        "\n",
        "    # Check column alignment\n",
        "    q1_cols = set(raw_jpm_q1_2025_df.columns)\n",
        "    q2_cols = set(raw_jpm_q2_2025_df.columns)\n",
        "\n",
        "    print(f\"Q1 columns: {q1_cols}\")\n",
        "    print(f\"Q2 columns: {q2_cols}\")\n",
        "    print(f\"Common columns: {q1_cols.intersection(q2_cols)}\")\n",
        "\n",
        "    if q1_cols != q2_cols:\n",
        "        print(\"⚠️  Column mismatch detected\")\n",
        "        print(f\"Q1 only: {q1_cols - q2_cols}\")\n",
        "        print(f\"Q2 only: {q2_cols - q1_cols}\")\n",
        "\n",
        "    # Combine datasets\n",
        "    raw_jpm_multi_2025_df = pd.concat([\n",
        "        q1_df_with_quarter,\n",
        "        q2_df_with_quarter\n",
        "    ], ignore_index=True, sort=False)\n",
        "\n",
        "    print(f\"✓ Combined dataset created: {raw_jpm_multi_2025_df.shape}\")\n",
        "\n",
        "    # Verify quarter distribution\n",
        "    quarter_dist = raw_jpm_multi_2025_df['quarter'].value_counts()\n",
        "    print(f\"Quarter distribution: {quarter_dist.to_dict()}\")\n",
        "\n",
        "else:\n",
        "    print(\"❌ Cannot create combined dataset - missing data\")\n",
        "    raw_jpm_multi_2025_df = None\n"
      ],
      "metadata": {
        "colab": {
          "base_uri": "https://localhost:8080/"
        },
        "id": "WnpHbRAfAlYX",
        "outputId": "c0bb6597-aec9-46fb-dc58-a704bc192f13"
      },
      "execution_count": 9,
      "outputs": [
        {
          "output_type": "stream",
          "name": "stdout",
          "text": [
            "\n",
            "==================================================\n",
            "CREATING COMBINED DATASET\n",
            "==================================================\n",
            "Q1 columns: {'question_number', 'role', 'year', 'section', 'company', 'is_pleasantry', 'quarter', 'content', 'answer_number', 'speaker_name'}\n",
            "Q2 columns: {'question_number', 'role', 'year', 'section', 'company', 'is_pleasantry', 'quarter', 'content', 'answer_number', 'speaker_name'}\n",
            "Common columns: {'question_number', 'role', 'year', 'section', 'company', 'is_pleasantry', 'quarter', 'content', 'answer_number', 'speaker_name'}\n",
            "✓ Combined dataset created: (261, 10)\n",
            "Quarter distribution: {'q2_2025': 149, 'q1_2025': 112}\n"
          ]
        }
      ]
    },
    {
      "cell_type": "code",
      "source": [
        "## Save Raw Data\n",
        "\n",
        "def save_dataset(df, filename, description):\n",
        "    \"\"\"Save dataset to multiple locations.\"\"\"\n",
        "    if df is None:\n",
        "        print(f\"❌ Cannot save {description} - dataset is None\")\n",
        "        return\n",
        "\n",
        "    print(f\"Saving {description}...\")\n",
        "\n",
        "    # Save to drive\n",
        "    drive_path = raw_data_path / filename\n",
        "    df.to_csv(drive_path, index=False)\n",
        "    print(f\"  ✓ Drive: {drive_path}\")\n",
        "\n",
        "    # Save to colab\n",
        "    colab_path = colab_data_path / filename\n",
        "    df.to_csv(colab_path, index=False)\n",
        "    print(f\"  ✓ Colab: {colab_path}\")\n",
        "\n",
        "    return drive_path, colab_path\n",
        "\n",
        "print(\"\\n\" + \"=\"*50)\n",
        "print(\"SAVING DATASETS\")\n",
        "print(\"=\"*50)\n",
        "\n",
        "# Save individual quarter datasets\n",
        "save_dataset(raw_jpm_q1_2025_df, \"raw_jpm_q1_2025.csv\", \"Q1 2025 raw data\")\n",
        "save_dataset(raw_jpm_q2_2025_df, \"raw_jpm_q2_2025.csv\", \"Q2 2025 raw data\")\n",
        "save_dataset(raw_jpm_multi_2025_df, \"raw_jpm_multi_2025.csv\", \"Combined 2025 raw data\")\n"
      ],
      "metadata": {
        "colab": {
          "base_uri": "https://localhost:8080/"
        },
        "id": "obeAmKFuAo3d",
        "outputId": "06780e04-e69f-4afe-fc06-5354104edec0"
      },
      "execution_count": 10,
      "outputs": [
        {
          "output_type": "stream",
          "name": "stdout",
          "text": [
            "\n",
            "==================================================\n",
            "SAVING DATASETS\n",
            "==================================================\n",
            "Saving Q1 2025 raw data...\n",
            "  ✓ Drive: /content/drive/MyDrive/CAM_DS_AI_Project/data/raw/jpm/raw_jpm_q1_2025.csv\n",
            "  ✓ Colab: /content/cam_ds_ai_project/data/raw/jpm/raw_jpm_q1_2025.csv\n",
            "Saving Q2 2025 raw data...\n",
            "  ✓ Drive: /content/drive/MyDrive/CAM_DS_AI_Project/data/raw/jpm/raw_jpm_q2_2025.csv\n",
            "  ✓ Colab: /content/cam_ds_ai_project/data/raw/jpm/raw_jpm_q2_2025.csv\n",
            "Saving Combined 2025 raw data...\n",
            "  ✓ Drive: /content/drive/MyDrive/CAM_DS_AI_Project/data/raw/jpm/raw_jpm_multi_2025.csv\n",
            "  ✓ Colab: /content/cam_ds_ai_project/data/raw/jpm/raw_jpm_multi_2025.csv\n"
          ]
        },
        {
          "output_type": "execute_result",
          "data": {
            "text/plain": [
              "(PosixPath('/content/drive/MyDrive/CAM_DS_AI_Project/data/raw/jpm/raw_jpm_multi_2025.csv'),\n",
              " PosixPath('/content/cam_ds_ai_project/data/raw/jpm/raw_jpm_multi_2025.csv'))"
            ]
          },
          "metadata": {},
          "execution_count": 10
        }
      ]
    },
    {
      "cell_type": "code",
      "source": [
        "## Data Loading Summary\n",
        "\n",
        "print(\"\\n\" + \"=\"*60)\n",
        "print(\"DATA LOADING SUMMARY\")\n",
        "print(\"=\"*60)\n",
        "\n",
        "datasets_loaded = []\n",
        "if raw_jpm_q1_2025_df is not None:\n",
        "    datasets_loaded.append(f\"Q1 2025: {raw_jpm_q1_2025_df.shape}\")\n",
        "if raw_jpm_q2_2025_df is not None:\n",
        "    datasets_loaded.append(f\"Q2 2025: {raw_jpm_q2_2025_df.shape}\")\n",
        "if raw_jpm_multi_2025_df is not None:\n",
        "    datasets_loaded.append(f\"Combined: {raw_jpm_multi_2025_df.shape}\")\n",
        "\n",
        "print(\"Datasets loaded:\")\n",
        "for dataset in datasets_loaded:\n",
        "    print(f\"  ✓ {dataset}\")\n",
        "\n",
        "total_memory = 0\n",
        "if raw_jpm_q1_2025_df is not None:\n",
        "    total_memory += raw_jpm_q1_2025_df.memory_usage(deep=True).sum()\n",
        "if raw_jpm_q2_2025_df is not None:\n",
        "    total_memory += raw_jpm_q2_2025_df.memory_usage(deep=True).sum()\n",
        "if raw_jpm_multi_2025_df is not None:\n",
        "    total_memory += raw_jpm_multi_2025_df.memory_usage(deep=True).sum()\n",
        "\n",
        "print(f\"Total memory usage: {total_memory / 1024**2:.2f} MB\")\n",
        "\n",
        "print(\"\\nNext step: Run 03_clean_preprocess.ipynb to clean and preprocess the data\")\n",
        "\n",
        "## Export Variables for Next Notebook\n",
        "\n",
        "# Create data registry for next notebook\n",
        "data_registry = {\n",
        "    \"raw_jpm_q1_2025_df\": {\n",
        "        \"path\": str(raw_data_path / \"raw_jpm_q1_2025.csv\"),\n",
        "        \"shape\": raw_jpm_q1_2025_df.shape if raw_jpm_q1_2025_df is not None else None,\n",
        "        \"loaded\": raw_jpm_q1_2025_df is not None\n",
        "    },\n",
        "    \"raw_jpm_q2_2025_df\": {\n",
        "        \"path\": str(raw_data_path / \"raw_jpm_q2_2025.csv\"),\n",
        "        \"shape\": raw_jpm_q2_2025_df.shape if raw_jpm_q2_2025_df is not None else None,\n",
        "        \"loaded\": raw_jpm_q2_2025_df is not None\n",
        "    },\n",
        "    \"raw_jpm_multi_2025_df\": {\n",
        "        \"path\": str(raw_data_path / \"raw_jpm_multi_2025.csv\"),\n",
        "        \"shape\": raw_jpm_multi_2025_df.shape if raw_jpm_multi_2025_df is not None else None,\n",
        "        \"loaded\": raw_jpm_multi_2025_df is not None\n",
        "    }\n",
        "}\n",
        "\n",
        "# Save registry\n",
        "registry_path = drive_base / \"data_registry.json\"\n",
        "with open(registry_path, \"w\") as f:\n",
        "    json.dump(data_registry, f, indent=2)\n",
        "\n",
        "print(f\"✓ Data registry saved to: {registry_path}\")"
      ],
      "metadata": {
        "colab": {
          "base_uri": "https://localhost:8080/"
        },
        "id": "eh9CNIj1AsT2",
        "outputId": "d74c7e21-04f6-4e26-c890-78dfeadb9492"
      },
      "execution_count": 11,
      "outputs": [
        {
          "output_type": "stream",
          "name": "stdout",
          "text": [
            "\n",
            "============================================================\n",
            "DATA LOADING SUMMARY\n",
            "============================================================\n",
            "Datasets loaded:\n",
            "  ✓ Q1 2025: (112, 10)\n",
            "  ✓ Q2 2025: (149, 10)\n",
            "  ✓ Combined: (261, 10)\n",
            "Total memory usage: 0.52 MB\n",
            "\n",
            "Next step: Run 03_clean_preprocess.ipynb to clean and preprocess the data\n",
            "✓ Data registry saved to: /content/drive/MyDrive/CAM_DS_AI_Project/data_registry.json\n"
          ]
        }
      ]
    }
  ]
}