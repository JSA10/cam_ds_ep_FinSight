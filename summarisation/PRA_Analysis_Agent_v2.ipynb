{
 "cells": [
  {
   "cell_type": "markdown",
   "id": "e53339b8-2b13-4e00-8978-93ac41d9140b",
   "metadata": {},
   "source": [
    "# PRA Analysis Agent demo\n",
    "\n",
    "**Scaling analysis to get insights into the hands of PRA supervisors more quickly after earnings**\n",
    "\n",
    "This notebook creates an analysis agent using Open AIs — GPT-4.1-nano model to synthesise the teams analysis into a concise summary for PRA Supervisors to showcase potential areas of risk discussed in the last two earnings calls of 2O25 and highlight some areas to watch for Q3. \n",
    "\n",
    "The analysis threads brought together cover our deep dives into identifying the themes (topics) discussed, mapping these to PRA risk categories, assessing the associated sentimemnt of each risk category and where bankers and analyst sentiment diverge, before highlighting where G-SIB bankers may have been evasive in their answers for each bank and in comparison to each other. \n",
    "\n",
    "This notebook: \n",
    "- Reads team csv outputs in ../data/\n",
    "- Prepares them for the agent to focus on Q1 & Q2 2025 for JP Morgan + HSBC\n",
    "- The agent produces a PRA-aligned narrative (Thematic Focus, Sentiment, Summarisation & Evasion, Benchmarking)\n",
    "- Outputs: markdown strings + .md files in ./_outputs"
   ]
  },
  {
   "cell_type": "markdown",
   "id": "c85d3770-a9bc-4c09-95cb-843139805aef",
   "metadata": {},
   "source": [
    "## Load libraries and model"
   ]
  },
  {
   "cell_type": "code",
   "execution_count": 5,
   "id": "d31bfb7e-461f-4a8f-8150-36ec8cb0af6e",
   "metadata": {
    "execution": {
     "iopub.execute_input": "2025-10-02T16:13:09.033726Z",
     "iopub.status.busy": "2025-10-02T16:13:09.033595Z",
     "iopub.status.idle": "2025-10-02T16:13:10.930129Z",
     "shell.execute_reply": "2025-10-02T16:13:10.929898Z",
     "shell.execute_reply.started": "2025-10-02T16:13:09.033717Z"
    }
   },
   "outputs": [
    {
     "name": "stdout",
     "output_type": "stream",
     "text": [
      "Key visible: True\n"
     ]
    }
   ],
   "source": [
    "import os, json, glob\n",
    "from pathlib import Path\n",
    "import pandas as pd\n",
    "from datetime import datetime\n",
    "print(\"Key visible:\", bool(os.environ.get(\"OPENAI_API_KEY\")))  # should be True"
   ]
  },
  {
   "cell_type": "code",
   "execution_count": 4,
   "id": "b97c661e-93e1-44f4-9837-fc9ae1875a29",
   "metadata": {
    "execution": {
     "iopub.execute_input": "2025-10-02T16:12:50.694529Z",
     "iopub.status.busy": "2025-10-02T16:12:50.694329Z",
     "iopub.status.idle": "2025-10-02T16:12:52.275773Z",
     "shell.execute_reply": "2025-10-02T16:12:52.275486Z",
     "shell.execute_reply.started": "2025-10-02T16:12:50.694521Z"
    }
   },
   "outputs": [
    {
     "name": "stdout",
     "output_type": "stream",
     "text": [
      "Hello! How can I assist you today?\n"
     ]
    }
   ],
   "source": [
    "from openai import OpenAI\n",
    "from openai import RateLimitError, APIStatusError\n",
    "\n",
    "client = OpenAI()\n",
    "MODEL = \"gpt-4.1-nano\"\n",
    "\n",
    "def call_o4(input_text):\n",
    "    try:\n",
    "        return client.responses.create(model=MODEL, input=input_text, max_output_tokens=64)\n",
    "    except RateLimitError as e:\n",
    "        # 429 can mean rate-limit OR insufficient_quota; inspect the message\n",
    "        msg = str(e).lower()\n",
    "        if \"insufficient_quota\" in msg or \"check your plan and billing\" in msg:\n",
    "            raise SystemExit(\"❗No API credit/budget on this project. Add billing/credits and retry.\")\n",
    "        else:\n",
    "            # normal rate limiting — backoff and retry\n",
    "            import time\n",
    "            time.sleep(2)\n",
    "            return client.responses.create(model=MODEL, input=input_text, max_output_tokens=64)\n",
    "    except APIStatusError as e:\n",
    "        raise SystemExit(f\"API error {e.status_code}: {e}\")\n",
    "\n",
    "print(call_o4(\"ok\").output_text.strip())"
   ]
  },
  {
   "cell_type": "markdown",
   "id": "55f999d4-b29a-4351-8d38-c73e3a6f7ce7",
   "metadata": {},
   "source": [
    "## Define configurations"
   ]
  },
  {
   "cell_type": "code",
   "execution_count": 23,
   "id": "72e1f1be-af79-4ae9-a5ed-673286dc0dbb",
   "metadata": {
    "execution": {
     "iopub.execute_input": "2025-10-02T16:33:41.350519Z",
     "iopub.status.busy": "2025-10-02T16:33:41.350252Z",
     "iopub.status.idle": "2025-10-02T16:33:41.352851Z",
     "shell.execute_reply": "2025-10-02T16:33:41.352562Z",
     "shell.execute_reply.started": "2025-10-02T16:33:41.350511Z"
    }
   },
   "outputs": [],
   "source": [
    "# --- CONFIG ---\n",
    "DATA_DIR = Path(\"./data\")              # adjust if needed\n",
    "OUT_DIR  = Path(\"./_outputs\"); OUT_DIR.mkdir(exist_ok=True)\n",
    "\n",
    "BANKS = [\"jpm\", \"hsbc\"]\n",
    "FOCUS_YEAR = 2025\n",
    "FOCUS_QS = {\"Q1\",\"Q2\"}\n",
    "\n",
    "# Explicit filenames for this run\n",
    "TOPIC_FILES = [\n",
    "    DATA_DIR / \"jpm_pra_topics_23_25.csv\",\n",
    "    DATA_DIR / \"hsbc_pra_topics_23_25.csv\",\n",
    "]\n",
    "\n",
    "SENTI_AGG_FILE = DATA_DIR / \"sentiment_PRA_aggregated.csv\"\n",
    "SENTI_QNA_FILE = DATA_DIR / \"sentiment_with_PRA_bank_labels_deduped.csv\"\n",
    "\n",
    "EVASION_FILES = [\n",
    "    DATA_DIR / \"jpm_2025_evasion_predictions_pra.csv\",\n",
    "    DATA_DIR / \"hsbc_2025_evasion_predictions_pra.csv\",\n",
    "]"
   ]
  },
  {
   "cell_type": "markdown",
   "id": "0135d7ab-5c45-4b4e-8577-554cb4e8e544",
   "metadata": {},
   "source": [
    "## Load output CSVs from Data Science Analysis"
   ]
  },
  {
   "cell_type": "code",
   "execution_count": 31,
   "id": "5f4a8115-84f5-4335-a94c-3b10730d1e83",
   "metadata": {
    "execution": {
     "iopub.execute_input": "2025-10-02T16:49:39.874068Z",
     "iopub.status.busy": "2025-10-02T16:49:39.873864Z",
     "iopub.status.idle": "2025-10-02T16:49:39.908885Z",
     "shell.execute_reply": "2025-10-02T16:49:39.908597Z",
     "shell.execute_reply.started": "2025-10-02T16:49:39.874058Z"
    }
   },
   "outputs": [],
   "source": [
    "# --- LOAD ---\n",
    "def load_topics():\n",
    "    dfs = []\n",
    "    for f in TOPIC_FILES:\n",
    "        df = pd.read_csv(f)\n",
    "        if 'bank' not in df.columns:\n",
    "            bank = \"JPM\" if \"jpm\" in f.name.lower() else \"HSBC\"\n",
    "            df['bank'] = bank\n",
    "        if 'quarter' in df.columns:\n",
    "            df['quarter'] = (\n",
    "                df['quarter'].astype(str)\n",
    "                  .str.upper()\n",
    "                  .str.replace(\" \", \"\")\n",
    "                  .str.replace(\"INTERIM\",\"Q2\")\n",
    "                  .str.replace(\"ANNUAL\",\"Q4\")\n",
    "            )\n",
    "        dfs.append(df)\n",
    "    return pd.concat(dfs, ignore_index=True)\n",
    "\n",
    "def load_sentiment():\n",
    "    agg = pd.read_csv(SENTI_AGG_FILE)\n",
    "    qna = pd.read_csv(SENTI_QNA_FILE)\n",
    "    for d in (agg, qna):\n",
    "        if 'bank' in d.columns:\n",
    "            d['bank'] = d['bank'].str.upper()\n",
    "        if 'quarter' in d.columns:\n",
    "            d['quarter'] = d['quarter'].astype(str).str.upper().str.replace(\" \", \"\")\n",
    "    return agg, qna\n",
    "\n",
    "def load_evasion(files):\n",
    "    dfs = []\n",
    "    for f in files:\n",
    "        bank = \"JPM\" if \"jpm\" in f.name.lower() else \"HSBC\"\n",
    "        df = pd.read_csv(f)\n",
    "        df['bank'] = bank\n",
    "        if 'quarter' in df.columns:\n",
    "            df['quarter'] = df['quarter'].astype(str).str.upper().str.replace(\" \", \"\")\n",
    "        dfs.append(df)\n",
    "    return pd.concat(dfs, ignore_index=True)\n",
    "\n",
    "\n",
    "topics = load_topics()\n",
    "sent_agg, sent_qna = load_sentiment()\n",
    "evasion = load_evasion([\n",
    "    DATA_DIR / \"jpm_2025_evasion_predictions_pra.csv\",\n",
    "    DATA_DIR / \"hsbc_2025_evasion_predictions_pra.csv\",\n",
    "])"
   ]
  },
  {
   "cell_type": "markdown",
   "id": "c1155106-aee1-48fc-bee0-fb415e857ee8",
   "metadata": {},
   "source": [
    "## Prepare data for the LLM agent"
   ]
  },
  {
   "cell_type": "code",
   "execution_count": 33,
   "id": "0ee48683-3137-49fa-aaa3-1729e482c31d",
   "metadata": {
    "execution": {
     "iopub.execute_input": "2025-10-02T16:49:47.637487Z",
     "iopub.status.busy": "2025-10-02T16:49:47.637359Z",
     "iopub.status.idle": "2025-10-02T16:49:47.642256Z",
     "shell.execute_reply": "2025-10-02T16:49:47.642010Z",
     "shell.execute_reply.started": "2025-10-02T16:49:47.637478Z"
    }
   },
   "outputs": [],
   "source": [
    "# --- FILTER: Q1 & Q2 2025 latest per bank ---\n",
    "def filt_q1_q2_2025(df):\n",
    "    ymask = df['year'].astype(int).eq(FOCUS_YEAR) if 'year' in df.columns else True\n",
    "    qmask = df['quarter'].isin(FOCUS_QS) if 'quarter' in df.columns else True\n",
    "    return df[ymask & qmask].copy()\n",
    "\n",
    "T24 = filt_q1_q2_2025(topics)\n",
    "SA24 = filt_q1_q2_2025(sent_agg)\n",
    "SQ24 = filt_q1_q2_2025(sent_qna)\n",
    "E24  = filt_q1_q2_2025(evasion)"
   ]
  },
  {
   "cell_type": "markdown",
   "id": "c722319d-efa6-4855-a4a7-c4e4adae0d53",
   "metadata": {},
   "source": [
    "## Guide structure of the report"
   ]
  },
  {
   "cell_type": "markdown",
   "id": "ee5168b3-2237-4a79-a5f4-655abaf9619b",
   "metadata": {},
   "source": [
    "### Highlights by analysis type"
   ]
  },
  {
   "cell_type": "code",
   "execution_count": 34,
   "id": "3c1eae08-e801-45ba-9066-28eb07a95283",
   "metadata": {
    "execution": {
     "iopub.execute_input": "2025-10-02T16:49:57.544627Z",
     "iopub.status.busy": "2025-10-02T16:49:57.544423Z",
     "iopub.status.idle": "2025-10-02T16:49:57.551214Z",
     "shell.execute_reply": "2025-10-02T16:49:57.550828Z",
     "shell.execute_reply.started": "2025-10-02T16:49:57.544616Z"
    }
   },
   "outputs": [],
   "source": [
    "# --- AGGREGATIONS we’ll pass to the LLM (keep it tiny & factual) ---\n",
    "def thematic_summary(df):\n",
    "    if df.empty: \n",
    "        return []\n",
    "    # dominant topics by PRA category and topic_label\n",
    "    g = (df.groupby(['bank','pra_category','topic_label'], dropna=False)\n",
    "           .size()\n",
    "           .reset_index(name='count'))\n",
    "    top = (g.sort_values(['bank','pra_category','count'], ascending=[True,True,False])\n",
    "             .groupby(['bank','pra_category'])\n",
    "             .head(3))\n",
    "    # roll-up by PRA category to rank categories overall\n",
    "    cats = (df.groupby(['bank','pra_category']).size()\n",
    "              .reset_index(name='qna_count')\n",
    "              .sort_values(['bank','qna_count'], ascending=[True,False]))\n",
    "    return {\n",
    "        \"top_topics_per_category\": top.to_dict(orient=\"records\"),\n",
    "        \"category_rank\": cats.to_dict(orient=\"records\")\n",
    "    }\n",
    "\n",
    "def sentiment_divergence(agg_df, qna_df, bank_name=None):\n",
    "    out = {}\n",
    "    if not agg_df.empty:\n",
    "        piv = (\n",
    "            agg_df.groupby(['pra_category','role'])[['negative','neutral','positive']]\n",
    "            .mean()\n",
    "            .reset_index()\n",
    "        )\n",
    "        if bank_name:\n",
    "            piv['bank'] = bank_name.upper()\n",
    "        out[\"role_divergence\"] = piv.to_dict(orient=\"records\")\n",
    "    if not qna_df.empty:\n",
    "        cols = [c for c in qna_df.columns if c.startswith(\"sentiment_finbert\")]\n",
    "        keep = ['bank','pra_category','quarter'] + cols\n",
    "        out[\"qna_samples\"] = qna_df[keep].head(100).to_dict(orient=\"records\")\n",
    "    return out\n",
    "\n",
    "def evasion_summary(ev):\n",
    "    if ev.empty: return {}\n",
    "    # Expect columns like: 'evasion_score' or 'evasion_label'/'is_evasive'\n",
    "    score_col = next((c for c in ev.columns if c.lower() in [\"evasion_score\",\"evasive_score\",\"evasion_prob\",\"ev_prob\"]), None)\n",
    "    label_col = next((c for c in ev.columns if c.lower() in [\"evasion_label\",\"is_evasive\",\"evasive_flag\"]), None)\n",
    "\n",
    "    agg = []\n",
    "    for bank in sorted(ev['bank'].unique()):\n",
    "        sub = ev[ev['bank']==bank]\n",
    "        by_cat = sub.groupby(sub.get('pra_category','Unmapped')).agg(\n",
    "            qna_count=('bank','count'),\n",
    "            avg_score=(score_col,'mean') if score_col in sub.columns else ('bank','count'),\n",
    "            evasive_rate=((label_col, lambda x: pd.Series(x).astype(str).str.lower().isin(['1','true','yes','evasive']).mean())\n",
    "                          if label_col in sub.columns else ('bank','count'))\n",
    "        )\n",
    "        by_cat = by_cat.reset_index(names='pra_category')\n",
    "        top_evasive = by_cat.sort_values(['avg_score' if score_col else 'qna_count'], ascending=False).head(5)\n",
    "        agg.append({\"bank\": bank, \"by_category\": by_cat.to_dict(orient=\"records\"),\n",
    "                    \"top_evasive\": top_evasive.to_dict(orient=\"records\")})\n",
    "    return {\"evasion_by_bank\": agg}\n"
   ]
  },
  {
   "cell_type": "markdown",
   "id": "9ba1fb4a-d717-494f-b5fb-8993c4228481",
   "metadata": {},
   "source": [
    "### Trends"
   ]
  },
  {
   "cell_type": "code",
   "execution_count": 47,
   "id": "72715f36-9eae-4641-abd1-3a1d159d87bc",
   "metadata": {
    "execution": {
     "iopub.execute_input": "2025-10-02T18:59:59.843051Z",
     "iopub.status.busy": "2025-10-02T18:59:59.842738Z",
     "iopub.status.idle": "2025-10-02T18:59:59.849756Z",
     "shell.execute_reply": "2025-10-02T18:59:59.849322Z",
     "shell.execute_reply.started": "2025-10-02T18:59:59.843028Z"
    }
   },
   "outputs": [],
   "source": [
    "# --- TRENDS: Q1 -> Q2 deltas ---\n",
    "\n",
    "def topic_trends(df):\n",
    "    if df.empty: return {}\n",
    "    trend = (\n",
    "        df.groupby(['bank','pra_category','quarter'])\n",
    "          .size().reset_index(name='count')\n",
    "    )\n",
    "    # pivot to Q1 vs Q2\n",
    "    pivot = trend.pivot(index=['bank','pra_category'], columns='quarter', values='count').fillna(0)\n",
    "    if \"Q1\" in pivot and \"Q2\" in pivot:\n",
    "        pivot['delta_Q2vsQ1'] = pivot['Q2'] - pivot['Q1']\n",
    "    return pivot.reset_index().to_dict(orient=\"records\")\n",
    "\n",
    "def sentiment_trends(qna_df):\n",
    "    if qna_df.empty: return {}\n",
    "    # avg sentiment score per role x quarter x category\n",
    "    out = (\n",
    "        qna_df.groupby(['bank','pra_category','quarter','sentiment_finbert_label'])\n",
    "              ['sentiment_finbert_score']\n",
    "              .mean()\n",
    "              .reset_index()\n",
    "    )\n",
    "    # pivot to Q1/Q2\n",
    "    q1 = out[out['quarter']==\"Q1\"]\n",
    "    q2 = out[out['quarter']==\"Q2\"]\n",
    "    merged = pd.merge(\n",
    "        q1, q2,\n",
    "        on=['bank','pra_category','sentiment_finbert_label'],\n",
    "        how='outer',\n",
    "        suffixes=('_Q1','_Q2')\n",
    "    ).fillna(0)\n",
    "    merged['delta_Q2vsQ1'] = merged['sentiment_finbert_score_Q2'] - merged['sentiment_finbert_score_Q1']\n",
    "    return merged.to_dict(orient=\"records\")\n",
    "\n",
    "def evasion_trends(ev):\n",
    "    if ev.empty: return {}\n",
    "    score_col = next((c for c in ev.columns if \"evasion_score\" in c.lower()), None)\n",
    "    label_col = next((c for c in ev.columns if \"evasion_label\" in c.lower()), None)\n",
    "\n",
    "    if not score_col: return {}\n",
    "    by_q = (\n",
    "        ev.groupby(['bank','pra_category','quarter'])[score_col]\n",
    "          .mean()\n",
    "          .reset_index(name='avg_evasion')\n",
    "    )\n",
    "    q1 = by_q[by_q['quarter']==\"Q1\"]\n",
    "    q2 = by_q[by_q['quarter']==\"Q2\"]\n",
    "    merged = pd.merge(\n",
    "        q1, q2,\n",
    "        on=['bank','pra_category'],\n",
    "        how='outer',\n",
    "        suffixes=('_Q1','_Q2')\n",
    "    ).fillna(0)\n",
    "    merged['delta_Q2vsQ1'] = merged['avg_evasion_Q2'] - merged['avg_evasion_Q1']\n",
    "    return merged.to_dict(orient=\"records\")\n"
   ]
  },
  {
   "cell_type": "markdown",
   "id": "7b0815b4-42c4-4ef0-9fd8-9edb36e1851e",
   "metadata": {},
   "source": [
    "### Forward looking Q3 watch outs"
   ]
  },
  {
   "cell_type": "code",
   "execution_count": 53,
   "id": "49ad7b0a-18f1-4f6b-b068-f1b8c5ce6c74",
   "metadata": {
    "execution": {
     "iopub.execute_input": "2025-10-02T19:07:49.735027Z",
     "iopub.status.busy": "2025-10-02T19:07:49.734889Z",
     "iopub.status.idle": "2025-10-02T19:07:49.744822Z",
     "shell.execute_reply": "2025-10-02T19:07:49.744428Z",
     "shell.execute_reply.started": "2025-10-02T19:07:49.735017Z"
    }
   },
   "outputs": [],
   "source": [
    "# --- Q3 WATCH-OUTS (deterministic, from internal deltas only) ---\n",
    "\n",
    "def _norm_label(x):\n",
    "    return str(x).strip().lower()\n",
    "\n",
    "def _top_increases_by_bank(records, bank_key='bank', cat_key='pra_category', delta_key='delta_Q2vsQ1', topn=5):\n",
    "    import pandas as pd\n",
    "    if not records: \n",
    "        return {}\n",
    "    df = pd.DataFrame(records)\n",
    "    if df.empty or bank_key not in df or cat_key not in df or delta_key not in df:\n",
    "        return {}\n",
    "    df = df.copy()\n",
    "    # Only positive increases\n",
    "    df = df[df[delta_key] > 0]\n",
    "    out = {}\n",
    "    for bank, sub in df.groupby(bank_key):\n",
    "        top = sub.sort_values(delta_key, ascending=False).head(topn)\n",
    "        out[bank] = top[[cat_key, delta_key]].to_dict(orient='records')\n",
    "    return out\n",
    "\n",
    "def build_q3_watchouts_md(topic_trend_records, sentiment_trend_records, evasion_trend_records, topn=5):\n",
    "    import pandas as pd\n",
    "\n",
    "    # --- Topics: categories with biggest Q2 rise in mentions\n",
    "    topics_top = _top_increases_by_bank(topic_trend_records, topn=topn)\n",
    "\n",
    "    # --- Evasion: categories with biggest Q2 rise in avg evasion score\n",
    "    evasion_top = _top_increases_by_bank(evasion_trend_records, topn=topn)\n",
    "\n",
    "    # --- Sentiment: biggest increase in NEGATIVE scores (FinBERT)\n",
    "    neg_df = pd.DataFrame(sentiment_trend_records) if sentiment_trend_records else pd.DataFrame()\n",
    "    senti_top = {}\n",
    "    if not neg_df.empty:\n",
    "        # robust label filter (negative / NEGATIVE)\n",
    "        if 'sentiment_finbert_label' in neg_df.columns:\n",
    "            neg_df = neg_df[neg_df['sentiment_finbert_label'].astype(str).str.lower() == 'negative']\n",
    "        # keep only positive delta (Q2 more negative than Q1)\n",
    "        if 'delta_Q2vsQ1' in neg_df.columns:\n",
    "            neg_df = neg_df[neg_df['delta_Q2vsQ1'] > 0]\n",
    "        if not neg_df.empty:\n",
    "            for bank, sub in neg_df.groupby('bank'):\n",
    "                top = sub.sort_values('delta_Q2vsQ1', ascending=False).head(topn)\n",
    "                senti_top[bank] = top[['pra_category','delta_Q2vsQ1']].to_dict(orient='records')\n",
    "\n",
    "    # --- Render markdown\n",
    "    def render_bucket(title, d):\n",
    "        if not d: \n",
    "            return f\"- _No clear {title.lower()} identified from Q1→Q2 deltas._\"\n",
    "        lines = []\n",
    "        for bank in sorted(d.keys()):\n",
    "            lines.append(f\"**{bank}**\")\n",
    "            for row in d[bank]:\n",
    "                cat = row.get('pra_category','(Unmapped)')\n",
    "                delta = row.get('delta_Q2vsQ1', 0)\n",
    "                lines.append(f\"- {cat}: **+{delta:.0f}**\")\n",
    "        return \"\\n\".join(lines)\n",
    "\n",
    "    md = []\n",
    "    md.append(\"## Q3 Watch-Outs (grounded in Q1→Q2 deltas)\")\n",
    "    md.append(\"\")\n",
    "    md.append(\"**Where to expect continued scrutiny next quarter, based solely on internal quarter-to-quarter movement:**\")\n",
    "    md.append(\"\")\n",
    "    md.append(\"### 1) Rising Topic Intensity (more analyst Qs)\")\n",
    "    md.append(render_bucket(\"Topic increases\", topics_top))\n",
    "    md.append(\"\")\n",
    "    md.append(\"### 2) Rising Evasion Risk (higher avg evasion in Q2)\")\n",
    "    md.append(render_bucket(\"Evasion increases\", evasion_top))\n",
    "    md.append(\"\")\n",
    "    md.append(\"### 3) More Negative Tone (FinBERT, Q2 > Q1)\")\n",
    "    md.append(render_bucket(\"Negative sentiment increases\", senti_top))\n",
    "    md.append(\"\")\n",
    "    md.append(\"_Use these deltas to plan targeted Q3 probes (e.g., request more granularity where topic intensity and evasion both rose)._\")\n",
    "    return \"\\n\".join(md)\n",
    "\n"
   ]
  },
  {
   "cell_type": "markdown",
   "id": "258d21ad-dc63-48e3-9646-785203ca451c",
   "metadata": {},
   "source": [
    "## Initialise and run model"
   ]
  },
  {
   "cell_type": "markdown",
   "id": "adb5933b-c990-4ff9-8e0f-f7952316ce66",
   "metadata": {},
   "source": [
    "### Setup context payload for the analysis agent"
   ]
  },
  {
   "cell_type": "code",
   "execution_count": 48,
   "id": "54b6e292-361f-416c-9ad5-1e40c9a7a220",
   "metadata": {
    "execution": {
     "iopub.execute_input": "2025-10-02T19:00:38.853798Z",
     "iopub.status.busy": "2025-10-02T19:00:38.853645Z",
     "iopub.status.idle": "2025-10-02T19:00:38.884329Z",
     "shell.execute_reply": "2025-10-02T19:00:38.884048Z",
     "shell.execute_reply.started": "2025-10-02T19:00:38.853790Z"
    }
   },
   "outputs": [],
   "source": [
    "sentiment_payload = {\n",
    "    \"JPM\": sentiment_divergence(SA24, SQ24[SQ24['bank']==\"JPM\"], bank_name=\"JPM\"),\n",
    "    \"HSBC\": sentiment_divergence(SA24, SQ24[SQ24['bank']==\"HSBC\"], bank_name=\"HSBC\")\n",
    "}\n",
    "\n",
    "facts_payload = {\n",
    "    \"timebox\": {\"year\": FOCUS_YEAR, \"quarters\": sorted(FOCUS_QS)},\n",
    "    \"thematics\": thematic_summary(T24),\n",
    "    \"sentiment\": sentiment_payload,\n",
    "    \"evasion\": evasion_summary(E24),\n",
    "    \"trends\": {\n",
    "        \"topics\": topic_trends(T24),\n",
    "        \"sentiment\": sentiment_trends(SQ24),\n",
    "        \"evasion\": evasion_trends(E24),\n",
    "    }\n",
    "}"
   ]
  },
  {
   "cell_type": "markdown",
   "id": "bed5f41e-29a1-431f-a549-bf422fbc66f8",
   "metadata": {},
   "source": [
    "### Prepare prompt with focused instructions"
   ]
  },
  {
   "cell_type": "code",
   "execution_count": 49,
   "id": "cf4d274c-1fbc-4d46-b076-5d3a805babab",
   "metadata": {
    "execution": {
     "iopub.execute_input": "2025-10-02T19:00:59.046726Z",
     "iopub.status.busy": "2025-10-02T19:00:59.046534Z",
     "iopub.status.idle": "2025-10-02T19:00:59.049363Z",
     "shell.execute_reply": "2025-10-02T19:00:59.049069Z",
     "shell.execute_reply.started": "2025-10-02T19:00:59.046717Z"
    }
   },
   "outputs": [],
   "source": [
    "# --- PROMPT: tightly-scoped & schema’d for a PRA narrative ---\n",
    "SYSTEM = (\n",
    "    \"You are a concise regulatory analyst. Draft PRA-ready intelligence from structured facts. \"\n",
    "    \"Organize by: 1) Thematic Focus, 2) Sentiment Analysis, 3) Summarisation & Evasion, 4) Benchmarking. \"\n",
    "    \"Then produce a forward-looking 'Q3 Watch-Outs' section **grounded in quarter-on-quarter trends** \"\n",
    "    \"(topic frequency deltas, sentiment shifts, evasion increases). \"\n",
    "    \"Highlight categories with the sharpest changes. \"\n",
    "    \"Avoid speculation beyond provided facts.\"\n",
    ")\n",
    "\n",
    "USER_INSTRUCTIONS = (\n",
    "    \"Synthesize the findings for Q1–Q2 2025 for JPM and HSBC using the provided facts. \"\n",
    "    \"Map themes to PRA categories; highlight repeated risks; compare banker vs analyst tone; \"\n",
    "    \"summarize evasiveness hot-spots with examples of categories where evasion is highest; \"\n",
    "    \"and benchmark the two banks (systemic vs firm-specific divergences). \"\n",
    "    \"Keep it < 600 words. Output valid GitHub-flavored Markdown.\"\n",
    ")\n",
    "\n",
    "def call_llm(model, system, user, facts):\n",
    "    resp = client.responses.create(\n",
    "        model=model,\n",
    "        input=[\n",
    "            {\"role\": \"system\", \"content\": system},\n",
    "            {\"role\": \"user\", \"content\": user},\n",
    "            {\"role\": \"user\", \"content\": \"Facts JSON:\\n\" + json.dumps(facts, ensure_ascii=False, separators=(\",\", \":\"))}\n",
    "        ],\n",
    "        max_output_tokens=900,\n",
    "        temperature=0.2,\n",
    "    )\n",
    "    # navigate to text output\n",
    "    return resp.output[0].content[0].text"
   ]
  },
  {
   "cell_type": "markdown",
   "id": "275fd348-7d52-4b89-a98a-ed9d89c46f46",
   "metadata": {},
   "source": [
    "### Run model"
   ]
  },
  {
   "cell_type": "code",
   "execution_count": 63,
   "id": "253a06f9-6941-4f52-9c63-e62bf7248ce9",
   "metadata": {
    "execution": {
     "iopub.execute_input": "2025-10-02T19:33:16.370519Z",
     "iopub.status.busy": "2025-10-02T19:33:16.370327Z",
     "iopub.status.idle": "2025-10-02T19:33:29.013830Z",
     "shell.execute_reply": "2025-10-02T19:33:29.013495Z",
     "shell.execute_reply.started": "2025-10-02T19:33:16.370509Z"
    }
   },
   "outputs": [],
   "source": [
    "# Build the deterministic watch-outs section from the existing trend outputs\n",
    "q3_watchouts_md = build_q3_watchouts_md(\n",
    "    topic_trend_records=facts_payload[\"trends\"][\"topics\"],\n",
    "    sentiment_trend_records=facts_payload[\"trends\"][\"sentiment\"],\n",
    "    evasion_trend_records=facts_payload[\"trends\"][\"evasion\"],\n",
    "    topn=5\n",
    ")\n",
    "\n",
    "report_md = call_llm(MODEL, SYSTEM, USER_INSTRUCTIONS, facts_payload)\n",
    "\n",
    "# 1) Option A — append to model output (guarantees the section appears)\n",
    "report_md = report_md.rstrip() + \"\\n\\n\" + q3_watchouts_md + \"\\n\""
   ]
  },
  {
   "cell_type": "markdown",
   "id": "f359ce24-c295-4a1f-8004-cd69aed7e57c",
   "metadata": {},
   "source": [
    "### Save markdown report"
   ]
  },
  {
   "cell_type": "code",
   "execution_count": 64,
   "id": "be659093-ffd6-4a95-baa7-45c30a2112d3",
   "metadata": {
    "execution": {
     "iopub.execute_input": "2025-10-02T19:33:33.520226Z",
     "iopub.status.busy": "2025-10-02T19:33:33.520042Z",
     "iopub.status.idle": "2025-10-02T19:33:33.522886Z",
     "shell.execute_reply": "2025-10-02T19:33:33.522628Z",
     "shell.execute_reply.started": "2025-10-02T19:33:33.520216Z"
    }
   },
   "outputs": [
    {
     "name": "stdout",
     "output_type": "stream",
     "text": [
      "\n",
      "--- PRA synthesis saved: _outputs/PRA_synthesis_Q1Q2_2025_20251002-2033.md\n",
      "\n",
      "# Q1–Q2 2025 Regulatory Intelligence Synthesis: JPM & HSBC\n",
      "\n",
      "## 1. Thematic Focus & PRA Categories\n",
      "\n",
      "### HSBC\n",
      "- **Capital Adequacy**: Dominant theme with 9 top topics, notably around \"billion/quarter/revenue\" and \"hedge/impairment/CET\". Slight decline in topic frequency from Q1 (7) to Q2 (6).\n",
      "- **Conduct Risk**: Significant focus with 19 topics, notably \"CRE/Hong Kong/scenario\" and \"trade/downside/stage\". Slight decrease in topics (11 to 8).\n",
      "- **Governance**: High volume (23 topics), with notable \"Outliers\" and \"normalised impairment\". Decreased from 14 to 10 topics.\n",
      "- **Unmapped**: Elevated presence (10 topics), with \"costs\" and \"growth\" as hot evasion spots, indicating potential strategic ambiguity.\n",
      "- **Liquidity**: Stable, with 6 topics, emphasizing \"rates/sensitivity/growth\".\n",
      "  \n",
      "### JPM\n",
      "- **Governance**: Most prominent with 75 topics, including \"Outliers\" and \"follow-up\". Significant increase from Q1 (44) to Q2 (61).\n",
      "- **Capital Adequacy**: 19 topics in Q1, rising sharply to 42 in Q2, indicating heightened focus.\n",
      "- **Conduct Risk**: Consistent presence with 26 topics, slight increase.\n",
      "- **Unmapped**: Declined from 8 to 3 topics, suggesting more targeted disclosures.\n",
      "- **Market & Credit Risks**: Notable topics, with positive sentiment shifts in Q2.\n",
      "\n",
      "## 2. Sentiment Analysis & Divergences\n",
      "\n",
      "### Bank vs Analyst Tone\n",
      "- **HSBC**: \n",
      "  - **Banker** sentiment remains highly positive across categories (~18 positive vs 2 negative in Capital Adequacy). \n",
      "  - **Analyst** sentiment is more\n",
      "...\n",
      "\n"
     ]
    }
   ],
   "source": [
    "# --- Save & show ---\n",
    "stamp = datetime.now().strftime(\"%Y%m%d-%H%M\")\n",
    "out_path = OUT_DIR / f\"PRA_synthesis_Q1Q2_{FOCUS_YEAR}_{stamp}.md\"\n",
    "out_path.write_text(report_md, encoding=\"utf-8\")\n",
    "print(f\"\\n--- PRA synthesis saved: {out_path}\\n\")\n",
    "print(report_md[:1500] + (\"\\n...\\n\" if len(report_md)>1500 else \"\\n\"))"
   ]
  },
  {
   "cell_type": "markdown",
   "id": "c7d55bf9-1e83-4186-a505-10d0a18e124d",
   "metadata": {},
   "source": [
    "### Add summary table"
   ]
  },
  {
   "cell_type": "code",
   "execution_count": 65,
   "id": "f32d6ac5-3a14-47bc-a11b-272536cb7de2",
   "metadata": {
    "execution": {
     "iopub.execute_input": "2025-10-02T19:33:43.549372Z",
     "iopub.status.busy": "2025-10-02T19:33:43.549231Z",
     "iopub.status.idle": "2025-10-02T19:33:43.563319Z",
     "shell.execute_reply": "2025-10-02T19:33:43.562995Z",
     "shell.execute_reply.started": "2025-10-02T19:33:43.549364Z"
    }
   },
   "outputs": [
    {
     "name": "stdout",
     "output_type": "stream",
     "text": [
      "Saved summary table → _outputs/Q1_Q2_trend_summary.csv\n",
      "Updated report with summary table → _outputs/PRA_synthesis_Q1Q2_2025_20251002-2033.md\n"
     ]
    }
   ],
   "source": [
    "# --- SUMMARY TABLE: combine topic, evasion, and negative sentiment deltas ---\n",
    "\n",
    "def _to_df(records, cols_required):\n",
    "    df = pd.DataFrame(records) if records else pd.DataFrame(columns=list(cols_required))\n",
    "    for c in cols_required:\n",
    "        if c not in df.columns:\n",
    "            df[c] = pd.NA\n",
    "    return df\n",
    "\n",
    "# 1) Topics Δ\n",
    "topics_df = _to_df(facts_payload[\"trends\"][\"topics\"], {\"bank\",\"pra_category\",\"delta_Q2vsQ1\"})\n",
    "topics_df = topics_df.rename(columns={\"delta_Q2vsQ1\":\"topic_delta\"})\n",
    "\n",
    "# 2) Evasion Δ\n",
    "evasion_df = _to_df(facts_payload[\"trends\"][\"evasion\"], {\"bank\",\"pra_category\",\"delta_Q2vsQ1\"})\n",
    "evasion_df = evasion_df.rename(columns={\"delta_Q2vsQ1\":\"evasion_delta\"})\n",
    "\n",
    "# 3) Negative sentiment Δ (filter NEGATIVE only)\n",
    "sent_df = _to_df(facts_payload[\"trends\"][\"sentiment\"], \n",
    "                 {\"bank\",\"pra_category\",\"sentiment_finbert_label\",\"delta_Q2vsQ1\"})\n",
    "if not sent_df.empty:\n",
    "    sent_df = sent_df[sent_df[\"sentiment_finbert_label\"].astype(str).str.lower()==\"negative\"].copy()\n",
    "    sent_df = sent_df.drop(columns=[\"sentiment_finbert_label\"])\n",
    "sent_df = sent_df.rename(columns={\"delta_Q2vsQ1\":\"neg_sent_delta\"})\n",
    "\n",
    "# Optional: normalize bank names to JPM / HSBC where possible\n",
    "def normalize_bank(b):\n",
    "    s = str(b).upper()\n",
    "    if \"JPM\" in s or \"MORGAN\" in s:\n",
    "        return \"JPM\"\n",
    "    if \"HSBC\" in s:\n",
    "        return \"HSBC\"\n",
    "    return s  # keep as-is (e.g., broker names might appear in sentiment rows)\n",
    "\n",
    "for df_ in (topics_df, evasion_df, sent_df):\n",
    "    if \"bank\" in df_.columns:\n",
    "        df_[\"bank\"] = df_[\"bank\"].map(normalize_bank)\n",
    "\n",
    "# Merge into one summary table (outer join to keep all categories seen anywhere)\n",
    "summary = topics_df.merge(evasion_df, on=[\"bank\",\"pra_category\"], how=\"outer\") \\\n",
    "                   .merge(sent_df,   on=[\"bank\",\"pra_category\"], how=\"outer\")\n",
    "\n",
    "# Fill NA with zeros for deltas\n",
    "for col in [\"topic_delta\",\"evasion_delta\",\"neg_sent_delta\"]:\n",
    "    if col in summary.columns:\n",
    "        summary[col] = pd.to_numeric(summary[col], errors=\"coerce\").fillna(0)\n",
    "\n",
    "# Rank-style composite to help scanning (higher = bigger concern)\n",
    "# Simple, transparent score: weighted sum with small weights; adjust if you prefer\n",
    "summary[\"composite_signal\"] = (\n",
    "    summary[\"topic_delta\"]*1.0 +\n",
    "    summary[\"evasion_delta\"]*1.5 +     # weight evasion slightly higher\n",
    "    summary[\"neg_sent_delta\"]*1.0\n",
    ")\n",
    "\n",
    "# Sort within bank, strongest first\n",
    "summary_sorted = summary_sorted[\n",
    "    summary_sorted[\"bank\"].isin([\"JPM\", \"HSBC\"])\n",
    "].sort_values(\n",
    "    [\"bank\",\"composite_signal\"], ascending=[True, False]\n",
    ").reset_index(drop=True)\n",
    "\n",
    "# Save a CSV for auditing\n",
    "OUT_DIR = Path(\"./_outputs\"); OUT_DIR.mkdir(exist_ok=True)\n",
    "sum_path = OUT_DIR / \"Q1_Q2_trend_summary.csv\"\n",
    "summary_sorted.to_csv(sum_path, index=False)\n",
    "print(f\"Saved summary table → {sum_path}\")\n",
    "\n",
    "# Build a compact Markdown table (top-N per bank)\n",
    "TOPN = 8\n",
    "md_blocks = []\n",
    "for bank, sub in summary_sorted.groupby(\"bank\"):\n",
    "    head = sub.head(TOPN)[[\"pra_category\",\"topic_delta\",\"evasion_delta\",\"neg_sent_delta\",\"composite_signal\"]]\n",
    "    # To markdown (compact)\n",
    "    md_blocks.append(f\"### {bank} — Q1→Q2 Trend Summary (top {TOPN})\")\n",
    "    md_blocks.append(head.to_markdown(index=False))\n",
    "    md_blocks.append(\"\")  # spacer\n",
    "\n",
    "summary_md = (\n",
    "    \"## Q1→Q2 Trend Summary (internal deltas)\\n\\n\"\n",
    "    \"This table highlights where internal momentum is building, combining analyst Q counts, evasion rates, \"\n",
    "    \"and negative sentiment shifts. **Supervisors should use this to: (a) focus Q3 follow-up on categories with the largest positive deltas; \"\n",
    "    \"(b) cross-check where both topic intensity and evasion rose; and (c) compare divergences between HSBC and JPM.**\\n\\n\"\n",
    "    + \"\\n\".join(md_blocks)\n",
    ")\n",
    "\n",
    "# Append under the deterministic Q3 Watch-Outs section\n",
    "report_md = report_md.rstrip() + \"\\n\\n\" + summary_md + \"\\n\"\n",
    "\n",
    "# Overwrite the latest report file (or write a new stamped one if you prefer)\n",
    "latest_path = sorted(OUT_DIR.glob(\"PRA_synthesis_Q1Q2_*.md\"))[-1] if list(OUT_DIR.glob(\"PRA_synthesis_Q1Q2_*.md\")) else OUT_DIR/\"PRA_synthesis_Q1Q2_latest.md\"\n",
    "latest_path.write_text(report_md, encoding=\"utf-8\")\n",
    "print(f\"Updated report with summary table → {latest_path}\")\n"
   ]
  },
  {
   "cell_type": "markdown",
   "id": "c6844f3c-3cfe-4844-9da3-fa1df86b8781",
   "metadata": {},
   "source": [
    "# REVIEW THE GENERATED REPORT"
   ]
  },
  {
   "cell_type": "markdown",
   "id": "b4cd95d8-de86-4baf-8208-5ba344f2339e",
   "metadata": {},
   "source": [
    "# Q1–Q2 2025 Regulatory Intelligence Synthesis: JPM & HSBC\n",
    "\n",
    "## 1. Thematic Focus & PRA Categories\n",
    "\n",
    "### HSBC\n",
    "- **Capital Adequacy**: Dominant theme with 9 top topics, notably around \"billion/quarter/revenue\" and \"hedge/impairment/CET\". Slight decline in topic frequency from Q1 (7) to Q2 (6).\n",
    "- **Conduct Risk**: Significant focus with 19 topics, notably \"CRE/Hong Kong/scenario\" and \"trade/downside/stage\". Slight decrease in topics (11 to 8).\n",
    "- **Governance**: High volume (23 topics), with notable \"Outliers\" and \"normalised impairment\". Decreased from 14 to 10 topics.\n",
    "- **Unmapped**: Elevated presence (10 topics), with \"costs\" and \"growth\" as hot evasion spots, indicating potential strategic ambiguity.\n",
    "- **Liquidity**: Stable, with 6 topics, emphasizing \"rates/sensitivity/growth\".\n",
    "  \n",
    "### JPM\n",
    "- **Governance**: Most prominent with 75 topics, including \"Outliers\" and \"follow-up\". Significant increase from Q1 (44) to Q2 (61).\n",
    "- **Capital Adequacy**: 19 topics in Q1, rising sharply to 42 in Q2, indicating heightened focus.\n",
    "- **Conduct Risk**: Consistent presence with 26 topics, slight increase.\n",
    "- **Unmapped**: Declined from 8 to 3 topics, suggesting more targeted disclosures.\n",
    "- **Market & Credit Risks**: Notable topics, with positive sentiment shifts in Q2.\n",
    "\n",
    "## 2. Sentiment Analysis & Divergences\n",
    "\n",
    "### Bank vs Analyst Tone\n",
    "- **HSBC**: \n",
    "  - **Banker** sentiment remains highly positive across categories (~18 positive vs 2 negative in Capital Adequacy). \n",
    "  - **Analyst** sentiment is more cautious, with negative ratings in Credit Risk and Capital Adequacy (~1.5 negative).\n",
    "- **JPM**:\n",
    "  - **Banker** sentiment is strongly positive (~18 in Capital Adequacy, 2 in Conduct Risk).\n",
    "  - **Analyst** sentiment is more mixed, with notable negative scores in Market & Credit Risks (~2 negative in Market Risk).\n",
    "\n",
    "### Sentiment Shifts\n",
    "- **HSBC**: Slight positive shift in Capital Adequacy (+0.07), minor positive in Credit Risk (+0.0068). Negative sentiment in Conduct Risk diminishes.\n",
    "- **JPM**: Marked positive shift in Capital Adequacy (+0.19), and in Conduct Risk (+0.89). Market Risk sentiment improved notably (+0.015).\n",
    "\n",
    "## 3. Evasion Hot-Spots & Examples\n",
    "- **HSBC**: \n",
    "  - Highest evasion in **Capital Adequacy** (avg score 31.7), with notable evasion in **Costs & Efficiency** (0 in Q2, down from 30.0 Q1). \n",
    "  - **Credit Risk** evasion increased (from 32.1 to 41.9).\n",
    "  - **Interest Rate Risk / NII** also high (30.2).\n",
    "- **JPM**:\n",
    "  - **Capital Adequacy**: Highest evasion (41.7), with increased evasion in **Costs & Efficiency** (from 40.7 to 48.7).\n",
    "  - **Operational Risk / Controls**: Surged from 0 to 41.96, indicating significant evasion hot-spot.\n",
    "  - **Regulatory / PRA interactions**: Disappeared in Q2, suggesting evasion avoidance or strategic silence.\n",
    "\n",
    "## 4. Benchmarking: Systemic vs Firm-Specific Divergences\n",
    "- **HSBC** exhibits a more cautious tone, with high evasion in Capital Adequacy and Costs, and decreasing topic volume, indicating potential strategic evasion or regulatory sensitivity.\n",
    "- **JPM** shows a dramatic increase in governance topics and evasion in operational and regulatory areas, reflecting a possibly more complex or opaque risk profile.\n",
    "- **Sentiment**: JPM's positive shifts in Capital Adequacy and Conduct Risk contrast HSBC's relatively stable but cautious tone.\n",
    "- **Evasion**: JPM's higher evasion scores in operational and regulatory categories suggest a more evasive stance, potentially indicating systemic risk\n",
    "\n",
    "## Q3 Watch-Outs (grounded in Q1→Q2 deltas)\n",
    "\n",
    "**Where to expect continued scrutiny next quarter, based solely on internal quarter-to-quarter movement:**\n",
    "\n",
    "### 1) Rising Topic Intensity (more analyst Qs)\n",
    "**JPM**\n",
    "- Capital Adequacy: **+23**\n",
    "- Governance: **+17**\n",
    "- Conduct Risk: **+2**\n",
    "\n",
    "### 2) Rising Evasion Risk (higher avg evasion in Q2)\n",
    "**HSBC**\n",
    "- Credit risk: **+10**\n",
    "**JPM**\n",
    "- Operational risk / Controls: **+42**\n",
    "- Interest rate risk / NII: **+9**\n",
    "- Costs & efficiency: **+8**\n",
    "- Credit risk: **+7**\n",
    "- Capital adequacy: **+4**\n",
    "\n",
    "### 3) More Negative Tone (FinBERT, Q2 > Q1)\n",
    "**HSBC**\n",
    "- Market risk: **+1**\n",
    "- Credit risk: **+0**\n",
    "**JPMORGANCHASE**\n",
    "- Capital adequacy: **+1**\n",
    "- Credit risk: **+0**\n",
    "**RBC CAPITAL MARKETS LLC**\n",
    "- Market risk: **+1**\n",
    "\n",
    "_Use these deltas to plan targeted Q3 probes (e.g., request more granularity where topic intensity and evasion both rose)._\n",
    "\n",
    "## Q1→Q2 Trend Summary (internal deltas)\n",
    "\n",
    "This table highlights where internal momentum is building, combining analyst Q counts, evasion rates, and negative sentiment shifts. **Supervisors should use this to: (a) focus Q3 follow-up on categories with the largest positive deltas; (b) cross-check where both topic intensity and evasion rose; and (c) compare divergences between HSBC and JPM.**\n",
    "\n",
    "### HSBC — Q1→Q2 Trend Summary (top 8)\n",
    "| pra_category     |   topic_delta |   evasion_delta |   neg_sent_delta |   composite_signal |\n",
    "|:-----------------|--------------:|----------------:|-----------------:|-------------------:|\n",
    "| Credit risk      |             0 |         9.74032 |       0.00684637 |          14.6173   |\n",
    "| Market risk      |             0 |         0       |       0.969351   |           0.969351 |\n",
    "| Liquidity        |             0 |         0       |       0          |           0        |\n",
    "| Market risk      |             0 |         0       |      -0.892379   |          -0.892379 |\n",
    "| Conduct risk     |             0 |         0       |      -0.992219   |          -0.992219 |\n",
    "| Capital Adequacy |            -1 |         0       |       0          |          -1        |\n",
    "| Conduct Risk     |            -3 |         0       |       0          |          -3        |\n",
    "| Governance       |            -4 |         0       |       0          |          -4        |\n",
    "\n",
    "### JPM — Q1→Q2 Trend Summary (top 8)\n",
    "| pra_category                |   topic_delta |   evasion_delta |   neg_sent_delta |   composite_signal |\n",
    "|:----------------------------|--------------:|----------------:|-----------------:|-------------------:|\n",
    "| Operational risk / Controls |             0 |        41.9647  |         0        |           62.947   |\n",
    "| Capital Adequacy            |            23 |         0       |         0        |           23       |\n",
    "| Governance                  |            17 |         0       |         0        |           17       |\n",
    "| Interest rate risk / NII    |             0 |         8.9352  |         0        |           13.4028  |\n",
    "| Costs & efficiency          |             0 |         8.05147 |         0        |           12.0772  |\n",
    "| Credit risk                 |             0 |         7.19941 |         0.160312 |           10.9594  |\n",
    "| Capital adequacy            |             0 |         4.45829 |         0.96764  |            7.65508 |\n",
    "| Conduct Risk                |             2 |         0       |         0        |            2       |\n",
    "\n"
   ]
  }
 ],
 "metadata": {
  "kernelspec": {
   "display_name": "Python 3 (ipykernel)",
   "language": "python",
   "name": "python3"
  },
  "language_info": {
   "codemirror_mode": {
    "name": "ipython",
    "version": 3
   },
   "file_extension": ".py",
   "mimetype": "text/x-python",
   "name": "python",
   "nbconvert_exporter": "python",
   "pygments_lexer": "ipython3",
   "version": "3.12.6"
  }
 },
 "nbformat": 4,
 "nbformat_minor": 5
}
